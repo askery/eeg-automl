{
 "cells": [
  {
   "cell_type": "code",
   "execution_count": 63,
   "id": "48e21ba4",
   "metadata": {},
   "outputs": [],
   "source": [
    "#from tpot import TPOTClassifier\n",
    "import pandas as pd\n",
    "import numpy as np\n",
    "from sklearn.model_selection import train_test_split\n",
    "from sklearn.metrics import classification_report, confusion_matrix\n",
    "from sklearn.ensemble import ExtraTreesRegressor,ExtraTreesClassifier\n",
    "from sklearn.ensemble import RandomForestRegressor, RandomForestClassifier\n",
    "from sklearn.model_selection import train_test_split\n",
    "from sklearn.svm import LinearSVR\n",
    "from sklearn.tree import DecisionTreeRegressor\n",
    "from sklearn.linear_model import LinearRegression\n",
    "import matplotlib.pyplot as plt"
   ]
  },
  {
   "cell_type": "code",
   "execution_count": 11,
   "id": "389caa5d",
   "metadata": {},
   "outputs": [],
   "source": [
    "# load\n",
    "pref = ['C4_1_','C4_5_','C4_6_', 'C4_8_', 'C4_10_']\n",
    "df_d = {}\n",
    "for i in range(len(pref)):\n",
    "    fname  = pref[i] + 'features.csv'\n",
    "    df_d[i] = pd.read_csv(fname, decimal=',')\n",
    "#df = pd.read_csv('C4_10_features.csv')\n",
    "#df_d[4]  "
   ]
  },
  {
   "cell_type": "code",
   "execution_count": 12,
   "id": "48739f02",
   "metadata": {},
   "outputs": [],
   "source": [
    "df = pd.concat(df_d.values(), ignore_index=True)"
   ]
  },
  {
   "cell_type": "code",
   "execution_count": 13,
   "id": "d063dcbf",
   "metadata": {},
   "outputs": [
    {
     "data": {
      "text/html": [
       "<div>\n",
       "<style scoped>\n",
       "    .dataframe tbody tr th:only-of-type {\n",
       "        vertical-align: middle;\n",
       "    }\n",
       "\n",
       "    .dataframe tbody tr th {\n",
       "        vertical-align: top;\n",
       "    }\n",
       "\n",
       "    .dataframe thead th {\n",
       "        text-align: right;\n",
       "    }\n",
       "</style>\n",
       "<table border=\"1\" class=\"dataframe\">\n",
       "  <thead>\n",
       "    <tr style=\"text-align: right;\">\n",
       "      <th></th>\n",
       "      <th>HDF</th>\n",
       "      <th>Complexity</th>\n",
       "      <th>Mobility</th>\n",
       "      <th>classe</th>\n",
       "    </tr>\n",
       "  </thead>\n",
       "  <tbody>\n",
       "    <tr>\n",
       "      <th>0</th>\n",
       "      <td>1.390931</td>\n",
       "      <td>-1.479577</td>\n",
       "      <td>2.473534</td>\n",
       "      <td>0</td>\n",
       "    </tr>\n",
       "    <tr>\n",
       "      <th>1</th>\n",
       "      <td>-0.015578</td>\n",
       "      <td>0.254281</td>\n",
       "      <td>-0.608793</td>\n",
       "      <td>0</td>\n",
       "    </tr>\n",
       "    <tr>\n",
       "      <th>2</th>\n",
       "      <td>0.404857</td>\n",
       "      <td>-0.775104</td>\n",
       "      <td>1.209464</td>\n",
       "      <td>0</td>\n",
       "    </tr>\n",
       "    <tr>\n",
       "      <th>3</th>\n",
       "      <td>1.767775</td>\n",
       "      <td>-1.228770</td>\n",
       "      <td>2.103808</td>\n",
       "      <td>0</td>\n",
       "    </tr>\n",
       "    <tr>\n",
       "      <th>4</th>\n",
       "      <td>0.495654</td>\n",
       "      <td>-0.557916</td>\n",
       "      <td>0.703988</td>\n",
       "      <td>0</td>\n",
       "    </tr>\n",
       "    <tr>\n",
       "      <th>...</th>\n",
       "      <td>...</td>\n",
       "      <td>...</td>\n",
       "      <td>...</td>\n",
       "      <td>...</td>\n",
       "    </tr>\n",
       "    <tr>\n",
       "      <th>30715</th>\n",
       "      <td>-1.842650</td>\n",
       "      <td>0.299518</td>\n",
       "      <td>-1.073747</td>\n",
       "      <td>1</td>\n",
       "    </tr>\n",
       "    <tr>\n",
       "      <th>30716</th>\n",
       "      <td>-1.193388</td>\n",
       "      <td>0.527062</td>\n",
       "      <td>-0.998790</td>\n",
       "      <td>1</td>\n",
       "    </tr>\n",
       "    <tr>\n",
       "      <th>30717</th>\n",
       "      <td>-0.325767</td>\n",
       "      <td>0.794264</td>\n",
       "      <td>-1.089969</td>\n",
       "      <td>1</td>\n",
       "    </tr>\n",
       "    <tr>\n",
       "      <th>30718</th>\n",
       "      <td>-2.354177</td>\n",
       "      <td>1.568383</td>\n",
       "      <td>-1.753640</td>\n",
       "      <td>1</td>\n",
       "    </tr>\n",
       "    <tr>\n",
       "      <th>30719</th>\n",
       "      <td>-2.018900</td>\n",
       "      <td>1.331529</td>\n",
       "      <td>-1.878392</td>\n",
       "      <td>1</td>\n",
       "    </tr>\n",
       "  </tbody>\n",
       "</table>\n",
       "<p>30720 rows × 4 columns</p>\n",
       "</div>"
      ],
      "text/plain": [
       "            HDF  Complexity  Mobility  classe\n",
       "0      1.390931   -1.479577  2.473534       0\n",
       "1     -0.015578    0.254281 -0.608793       0\n",
       "2      0.404857   -0.775104  1.209464       0\n",
       "3      1.767775   -1.228770  2.103808       0\n",
       "4      0.495654   -0.557916  0.703988       0\n",
       "...         ...         ...       ...     ...\n",
       "30715 -1.842650    0.299518 -1.073747       1\n",
       "30716 -1.193388    0.527062 -0.998790       1\n",
       "30717 -0.325767    0.794264 -1.089969       1\n",
       "30718 -2.354177    1.568383 -1.753640       1\n",
       "30719 -2.018900    1.331529 -1.878392       1\n",
       "\n",
       "[30720 rows x 4 columns]"
      ]
     },
     "execution_count": 13,
     "metadata": {},
     "output_type": "execute_result"
    }
   ],
   "source": [
    "# inspect\n",
    "df"
   ]
  },
  {
   "cell_type": "code",
   "execution_count": 14,
   "id": "739606ad",
   "metadata": {},
   "outputs": [
    {
     "data": {
      "text/plain": [
       "HDF           float64\n",
       "Complexity    float64\n",
       "Mobility      float64\n",
       "classe          int64\n",
       "dtype: object"
      ]
     },
     "execution_count": 14,
     "metadata": {},
     "output_type": "execute_result"
    }
   ],
   "source": [
    "# inspect types \n",
    "df.dtypes"
   ]
  },
  {
   "cell_type": "code",
   "execution_count": 15,
   "id": "aa716b97",
   "metadata": {},
   "outputs": [],
   "source": [
    "#df = df.astype(float)\n",
    "#df"
   ]
  },
  {
   "cell_type": "code",
   "execution_count": 16,
   "id": "47dea6e0",
   "metadata": {},
   "outputs": [
    {
     "data": {
      "text/plain": [
       "4"
      ]
     },
     "execution_count": 16,
     "metadata": {},
     "output_type": "execute_result"
    }
   ],
   "source": [
    "df.shape[1]"
   ]
  },
  {
   "cell_type": "code",
   "execution_count": 17,
   "id": "bfebd6fe",
   "metadata": {},
   "outputs": [],
   "source": [
    "X = df.iloc[:,0:df.shape[1] -1].values\n",
    "y = df.iloc[: , -1:].values"
   ]
  },
  {
   "cell_type": "code",
   "execution_count": 20,
   "id": "448801d0",
   "metadata": {},
   "outputs": [],
   "source": [
    "X_train, X_test, y_train, y_test = train_test_split(X, y,\n",
    "                                                    train_size=0.8, random_state=18, stratify=y)"
   ]
  },
  {
   "cell_type": "code",
   "execution_count": 37,
   "id": "2409e517",
   "metadata": {},
   "outputs": [],
   "source": [
    "feat = df.columns[0:3]"
   ]
  },
  {
   "cell_type": "code",
   "execution_count": 53,
   "id": "e022f3e5",
   "metadata": {},
   "outputs": [
    {
     "name": "stdout",
     "output_type": "stream",
     "text": [
      "Feature HDF - Score: -0.06178\n",
      "Feature Complexity - Score: -0.11104\n",
      "Feature Mobility - Score: -0.13380\n"
     ]
    },
    {
     "data": {
      "image/png": "[encoded data removed]",
      "text/plain": [
       "<Figure size 432x288 with 1 Axes>"
      ]
     },
     "metadata": {
      "needs_background": "light"
     },
     "output_type": "display_data"
    }
   ],
   "source": [
    "# FI with linear regression\n",
    "model = LinearRegression()\n",
    "# fit the model\n",
    "model.fit(X, y)\n",
    "# get importance\n",
    "importance = model.coef_[0]\n",
    "# summarize feature importance\n",
    "for i,v in enumerate(importance):\n",
    "    print('Feature %s - Score: %.5f' % (feat[i],v))\n",
    "# plot feature importance\n",
    "plt.bar([x for x in range(len(importance))], abs(importance))\n",
    "plt.show()"
   ]
  },
  {
   "cell_type": "code",
   "execution_count": 51,
   "id": "31f032f2",
   "metadata": {},
   "outputs": [
    {
     "name": "stdout",
     "output_type": "stream",
     "text": [
      "Feature: HDF -  Score: 0.29972\n",
      "Feature: Complexity -  Score: 0.34196\n",
      "Feature: Mobility -  Score: 0.35832\n"
     ]
    },
    {
     "data": {
      "image/png": "[encoded data removed]",
      "text/plain": [
       "<Figure size 432x288 with 1 Axes>"
      ]
     },
     "metadata": {
      "needs_background": "light"
     },
     "output_type": "display_data"
    },
    {
     "name": "stdout",
     "output_type": "stream",
     "text": [
      "CPU times: user 333 ms, sys: 100 ms, total: 433 ms\n",
      "Wall time: 251 ms\n"
     ]
    }
   ],
   "source": [
    "%%time\n",
    "model = DecisionTreeRegressor()\n",
    "# fit the model\n",
    "model.fit(X, y)\n",
    "# get importance\n",
    "importance = model.feature_importances_\n",
    "# summarize feature importance\n",
    "for i,v in enumerate(importance):\n",
    "    print('Feature: %s -  Score: %.5f' % (feat[i],v))\n",
    "# plot feature importance\n",
    "plt.bar([x for x in range(len(importance))], importance)\n",
    "plt.show()"
   ]
  },
  {
   "cell_type": "code",
   "execution_count": 64,
   "id": "a211ff74",
   "metadata": {},
   "outputs": [
    {
     "name": "stderr",
     "output_type": "stream",
     "text": [
      "<timed exec>:3: DataConversionWarning: A column-vector y was passed when a 1d array was expected. Please change the shape of y to (n_samples,), for example using ravel().\n"
     ]
    },
    {
     "name": "stdout",
     "output_type": "stream",
     "text": [
      "Feature: HDF -  Score: 0.31417\n",
      "Feature: Complexity -  Score: 0.33997\n",
      "Feature: Mobility -  Score: 0.34586\n"
     ]
    },
    {
     "data": {
      "image/png": "[encoded data removed]",
      "text/plain": [
       "<Figure size 432x288 with 1 Axes>"
      ]
     },
     "metadata": {
      "needs_background": "light"
     },
     "output_type": "display_data"
    },
    {
     "name": "stdout",
     "output_type": "stream",
     "text": [
      "CPU times: user 6.88 s, sys: 104 ms, total: 6.99 s\n",
      "Wall time: 6.82 s\n"
     ]
    }
   ],
   "source": [
    "%%time\n",
    "model = RandomForestClassifier()\n",
    "# fit the model\n",
    "model.fit(X, y)\n",
    "# get importance\n",
    "importance = model.feature_importances_\n",
    "# summarize feature importance\n",
    "for i,v in enumerate(importance):\n",
    "    print('Feature: %s -  Score: %.5f' % (feat[i],v))\n",
    "# plot feature importance\n",
    "plt.bar([x for x in range(len(importance))], importance)\n",
    "plt.show()"
   ]
  },
  {
   "cell_type": "code",
   "execution_count": 65,
   "id": "75828bad",
   "metadata": {},
   "outputs": [
    {
     "name": "stderr",
     "output_type": "stream",
     "text": [
      "<timed exec>:4: DataConversionWarning: A column-vector y was passed when a 1d array was expected. Please change the shape of y to (n_samples,), for example using ravel().\n"
     ]
    },
    {
     "name": "stdout",
     "output_type": "stream",
     "text": [
      "CPU times: user 968 ms, sys: 7.92 ms, total: 976 ms\n",
      "Wall time: 985 ms\n"
     ]
    },
    {
     "data": {
      "text/plain": [
       "ExtraTreesClassifier(max_features=0.5, min_samples_leaf=2, min_samples_split=7)"
      ]
     },
     "execution_count": 65,
     "metadata": {},
     "output_type": "execute_result"
    }
   ],
   "source": [
    "%%time\n",
    "# define generations and populations\n",
    "#reg = TPOTRegressor(generations=10,population_size=10, verbosity=2, random_state=21)\n",
    "model = ExtraTreesClassifier(bootstrap=False, max_features=0.5, min_samples_leaf=2, min_samples_split=7, n_estimators=100)\n",
    "model.fit(X_train,y_train)"
   ]
  },
  {
   "cell_type": "code",
   "execution_count": 66,
   "id": "9b2a9225",
   "metadata": {},
   "outputs": [
    {
     "name": "stdout",
     "output_type": "stream",
     "text": [
      "CPU times: user 10.2 s, sys: 3.64 ms, total: 10.2 s\n",
      "Wall time: 10.2 s\n"
     ]
    }
   ],
   "source": [
    "%%time\n",
    "from sklearn.inspection import permutation_importance\n",
    "r = permutation_importance(model, X_test, y_test,n_repeats=30,random_state=0)"
   ]
  },
  {
   "cell_type": "code",
   "execution_count": 67,
   "id": "628e08d9",
   "metadata": {},
   "outputs": [
    {
     "name": "stdout",
     "output_type": "stream",
     "text": [
      "0.045 +/- 0.004  - feature: HDF     \n",
      "0.062 +/- 0.005  - feature: Complexity\n",
      "0.147 +/- 0.006  - feature: Mobility\n"
     ]
    }
   ],
   "source": [
    "for i in r.importances_mean.argsort():#[::-1]:\n",
    "    #if r.importances_mean[i] - 2 * r.importances_std[i] > 0:\n",
    "    print( f\"{r.importances_mean[i]:.3f}\" \n",
    "          f\" +/- {r.importances_std[i]:.3f}\"\n",
    "          f\"  - feature: {feat[i]:<8}\"\n",
    "         )"
   ]
  },
  {
   "cell_type": "code",
   "execution_count": null,
   "id": "c0f14cc1",
   "metadata": {},
   "outputs": [],
   "source": []
  }
 ],
 "metadata": {
  "kernelspec": {
   "display_name": "Python 3 (ipykernel)",
   "language": "python",
   "name": "python3"
  },
  "language_info": {
   "codemirror_mode": {
    "name": "ipython",
    "version": 3
   },
   "file_extension": ".py",
   "mimetype": "text/x-python",
   "name": "python",
   "nbconvert_exporter": "python",
   "pygments_lexer": "ipython3",
   "version": "3.8.12"
  }
 },
 "nbformat": 4,
 "nbformat_minor": 5
}
