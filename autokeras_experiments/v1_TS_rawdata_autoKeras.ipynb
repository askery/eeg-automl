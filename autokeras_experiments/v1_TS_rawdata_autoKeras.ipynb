{
 "cells": [
  {
   "cell_type": "code",
   "execution_count": 94,
   "id": "f1d58517",
   "metadata": {},
   "outputs": [],
   "source": [
    "import tensorflow as tf\n",
    "#import tensorflow_addons as tfa\n",
    "\n",
    "tf.get_logger().setLevel(\"CRITICAL\") # \"CRITICAL\"\n",
    "\n",
    "# Suppress warnings\n",
    "import warnings\n",
    "warnings.filterwarnings('ignore')"
   ]
  },
  {
   "cell_type": "code",
   "execution_count": 95,
   "id": "24f9343c",
   "metadata": {},
   "outputs": [],
   "source": [
    "import autokeras as ak\n",
    "import pandas as pd\n",
    "import numpy as np\n",
    "import os\n",
    "#\n",
    "from sklearn.model_selection import train_test_split\n",
    "from sklearn.metrics import classification_report, confusion_matrix\n",
    "#\n",
    "from sklearn.preprocessing import MinMaxScaler\n",
    "#\n",
    "from pretty_confusion_matrix import pp_matrix"
   ]
  },
  {
   "cell_type": "code",
   "execution_count": 96,
   "id": "290f9f05",
   "metadata": {},
   "outputs": [],
   "source": [
    "# load\n",
    "pref = ['C4_1_','C4_5_','C4_6_', 'C4_8_', 'C4_10_']\n",
    "df_d = {}\n",
    "for i in range(len(pref)):\n",
    "    fname   = pref[i] + 'rawdata_open.csv'\n",
    "    #fname   = pref[i] + 'features.csv'\n",
    "    df_d[i] = pd.read_csv(fname)\n",
    "#df = pd.read_csv('C4_10_features.csv')\n",
    "#df_d[4]  "
   ]
  },
  {
   "cell_type": "code",
   "execution_count": 97,
   "id": "add15b2b",
   "metadata": {},
   "outputs": [],
   "source": [
    "#df = pd.concat(df_d.values(), ignore_index=True)\n",
    "ii = 4\n",
    "df = df_d[ii]  "
   ]
  },
  {
   "cell_type": "code",
   "execution_count": 113,
   "id": "8961ab1c",
   "metadata": {},
   "outputs": [
    {
     "data": {
      "text/plain": [
       "'C4_10_'"
      ]
     },
     "execution_count": 113,
     "metadata": {},
     "output_type": "execute_result"
    }
   ],
   "source": [
    "pref[ii]"
   ]
  },
  {
   "cell_type": "code",
   "execution_count": 98,
   "id": "cc796254",
   "metadata": {},
   "outputs": [
    {
     "data": {
      "text/html": [
       "<div>\n",
       "<style scoped>\n",
       "    .dataframe tbody tr th:only-of-type {\n",
       "        vertical-align: middle;\n",
       "    }\n",
       "\n",
       "    .dataframe tbody tr th {\n",
       "        vertical-align: top;\n",
       "    }\n",
       "\n",
       "    .dataframe thead th {\n",
       "        text-align: right;\n",
       "    }\n",
       "</style>\n",
       "<table border=\"1\" class=\"dataframe\">\n",
       "  <thead>\n",
       "    <tr style=\"text-align: right;\">\n",
       "      <th></th>\n",
       "      <th>x1</th>\n",
       "      <th>x2</th>\n",
       "      <th>x3</th>\n",
       "      <th>x4</th>\n",
       "      <th>x5</th>\n",
       "      <th>x6</th>\n",
       "      <th>x7</th>\n",
       "      <th>x8</th>\n",
       "      <th>x9</th>\n",
       "      <th>x10</th>\n",
       "      <th>...</th>\n",
       "      <th>x92</th>\n",
       "      <th>x93</th>\n",
       "      <th>x94</th>\n",
       "      <th>x95</th>\n",
       "      <th>x96</th>\n",
       "      <th>x97</th>\n",
       "      <th>x98</th>\n",
       "      <th>x99</th>\n",
       "      <th>x100</th>\n",
       "      <th>Class</th>\n",
       "    </tr>\n",
       "  </thead>\n",
       "  <tbody>\n",
       "    <tr>\n",
       "      <th>0</th>\n",
       "      <td>13.574633</td>\n",
       "      <td>0.488296</td>\n",
       "      <td>7.812738</td>\n",
       "      <td>20.996735</td>\n",
       "      <td>18.359935</td>\n",
       "      <td>4.492325</td>\n",
       "      <td>-0.878933</td>\n",
       "      <td>6.152532</td>\n",
       "      <td>12.695700</td>\n",
       "      <td>12.598041</td>\n",
       "      <td>...</td>\n",
       "      <td>-18.750572</td>\n",
       "      <td>3.320414</td>\n",
       "      <td>24.903104</td>\n",
       "      <td>29.004791</td>\n",
       "      <td>21.778008</td>\n",
       "      <td>10.449538</td>\n",
       "      <td>0.195318</td>\n",
       "      <td>2.148503</td>\n",
       "      <td>18.555254</td>\n",
       "      <td>0</td>\n",
       "    </tr>\n",
       "    <tr>\n",
       "      <th>1</th>\n",
       "      <td>27.832881</td>\n",
       "      <td>13.769951</td>\n",
       "      <td>-5.957213</td>\n",
       "      <td>-6.933805</td>\n",
       "      <td>1.269570</td>\n",
       "      <td>-6.250191</td>\n",
       "      <td>-23.242897</td>\n",
       "      <td>-23.145238</td>\n",
       "      <td>-5.957213</td>\n",
       "      <td>4.199347</td>\n",
       "      <td>...</td>\n",
       "      <td>-45.899838</td>\n",
       "      <td>-4.297006</td>\n",
       "      <td>58.986175</td>\n",
       "      <td>70.021668</td>\n",
       "      <td>12.109745</td>\n",
       "      <td>-41.895810</td>\n",
       "      <td>-38.184759</td>\n",
       "      <td>-15.723136</td>\n",
       "      <td>-26.172674</td>\n",
       "      <td>0</td>\n",
       "    </tr>\n",
       "    <tr>\n",
       "      <th>2</th>\n",
       "      <td>-44.630268</td>\n",
       "      <td>-23.340556</td>\n",
       "      <td>16.406751</td>\n",
       "      <td>21.778008</td>\n",
       "      <td>1.855525</td>\n",
       "      <td>5.078280</td>\n",
       "      <td>25.098422</td>\n",
       "      <td>11.133152</td>\n",
       "      <td>-35.840938</td>\n",
       "      <td>-56.642354</td>\n",
       "      <td>...</td>\n",
       "      <td>25.391400</td>\n",
       "      <td>16.211432</td>\n",
       "      <td>-16.992706</td>\n",
       "      <td>-39.356670</td>\n",
       "      <td>-34.473708</td>\n",
       "      <td>-16.895047</td>\n",
       "      <td>-3.711051</td>\n",
       "      <td>3.027436</td>\n",
       "      <td>6.152532</td>\n",
       "      <td>0</td>\n",
       "    </tr>\n",
       "    <tr>\n",
       "      <th>3</th>\n",
       "      <td>4.980621</td>\n",
       "      <td>2.246162</td>\n",
       "      <td>2.148503</td>\n",
       "      <td>1.757866</td>\n",
       "      <td>-2.929777</td>\n",
       "      <td>-6.152532</td>\n",
       "      <td>-3.711051</td>\n",
       "      <td>-7.910398</td>\n",
       "      <td>-27.832881</td>\n",
       "      <td>-42.286447</td>\n",
       "      <td>...</td>\n",
       "      <td>-29.200110</td>\n",
       "      <td>-16.895047</td>\n",
       "      <td>-4.785302</td>\n",
       "      <td>-12.988678</td>\n",
       "      <td>-23.438215</td>\n",
       "      <td>-16.211432</td>\n",
       "      <td>-6.836146</td>\n",
       "      <td>-14.551225</td>\n",
       "      <td>-25.977355</td>\n",
       "      <td>0</td>\n",
       "    </tr>\n",
       "    <tr>\n",
       "      <th>4</th>\n",
       "      <td>-21.192053</td>\n",
       "      <td>-10.840175</td>\n",
       "      <td>-12.695700</td>\n",
       "      <td>-16.992706</td>\n",
       "      <td>-8.203375</td>\n",
       "      <td>0.781274</td>\n",
       "      <td>-6.640828</td>\n",
       "      <td>-14.648885</td>\n",
       "      <td>-0.976592</td>\n",
       "      <td>18.359935</td>\n",
       "      <td>...</td>\n",
       "      <td>32.227546</td>\n",
       "      <td>12.012085</td>\n",
       "      <td>-12.500381</td>\n",
       "      <td>-5.664235</td>\n",
       "      <td>23.340556</td>\n",
       "      <td>34.766686</td>\n",
       "      <td>14.160588</td>\n",
       "      <td>-11.035493</td>\n",
       "      <td>-14.258248</td>\n",
       "      <td>0</td>\n",
       "    </tr>\n",
       "    <tr>\n",
       "      <th>...</th>\n",
       "      <td>...</td>\n",
       "      <td>...</td>\n",
       "      <td>...</td>\n",
       "      <td>...</td>\n",
       "      <td>...</td>\n",
       "      <td>...</td>\n",
       "      <td>...</td>\n",
       "      <td>...</td>\n",
       "      <td>...</td>\n",
       "      <td>...</td>\n",
       "      <td>...</td>\n",
       "      <td>...</td>\n",
       "      <td>...</td>\n",
       "      <td>...</td>\n",
       "      <td>...</td>\n",
       "      <td>...</td>\n",
       "      <td>...</td>\n",
       "      <td>...</td>\n",
       "      <td>...</td>\n",
       "      <td>...</td>\n",
       "      <td>...</td>\n",
       "    </tr>\n",
       "    <tr>\n",
       "      <th>6139</th>\n",
       "      <td>-2.636799</td>\n",
       "      <td>-2.929777</td>\n",
       "      <td>-2.050844</td>\n",
       "      <td>-1.269570</td>\n",
       "      <td>-2.343822</td>\n",
       "      <td>-4.492325</td>\n",
       "      <td>-5.273598</td>\n",
       "      <td>-4.785302</td>\n",
       "      <td>-5.078280</td>\n",
       "      <td>-6.738487</td>\n",
       "      <td>...</td>\n",
       "      <td>-7.519761</td>\n",
       "      <td>-3.613392</td>\n",
       "      <td>1.171911</td>\n",
       "      <td>4.882962</td>\n",
       "      <td>5.371258</td>\n",
       "      <td>1.660207</td>\n",
       "      <td>-4.589984</td>\n",
       "      <td>-9.472945</td>\n",
       "      <td>-11.035493</td>\n",
       "      <td>1</td>\n",
       "    </tr>\n",
       "    <tr>\n",
       "      <th>6140</th>\n",
       "      <td>-10.742515</td>\n",
       "      <td>-11.523789</td>\n",
       "      <td>-14.551225</td>\n",
       "      <td>-18.457595</td>\n",
       "      <td>-21.875668</td>\n",
       "      <td>-24.121830</td>\n",
       "      <td>-25.098422</td>\n",
       "      <td>-24.610126</td>\n",
       "      <td>-23.828852</td>\n",
       "      <td>-23.828852</td>\n",
       "      <td>...</td>\n",
       "      <td>-9.668264</td>\n",
       "      <td>-8.203375</td>\n",
       "      <td>-8.105716</td>\n",
       "      <td>-7.617420</td>\n",
       "      <td>-7.715079</td>\n",
       "      <td>-10.156560</td>\n",
       "      <td>-13.574633</td>\n",
       "      <td>-14.844203</td>\n",
       "      <td>-13.379315</td>\n",
       "      <td>1</td>\n",
       "    </tr>\n",
       "    <tr>\n",
       "      <th>6141</th>\n",
       "      <td>-11.523789</td>\n",
       "      <td>-11.621448</td>\n",
       "      <td>-13.867611</td>\n",
       "      <td>-16.504410</td>\n",
       "      <td>-17.090365</td>\n",
       "      <td>-15.430158</td>\n",
       "      <td>-13.965270</td>\n",
       "      <td>-15.625477</td>\n",
       "      <td>-18.164617</td>\n",
       "      <td>-16.504410</td>\n",
       "      <td>...</td>\n",
       "      <td>-19.238868</td>\n",
       "      <td>-27.149266</td>\n",
       "      <td>-32.715842</td>\n",
       "      <td>-33.301798</td>\n",
       "      <td>-29.590747</td>\n",
       "      <td>-25.684378</td>\n",
       "      <td>-24.414808</td>\n",
       "      <td>-25.293741</td>\n",
       "      <td>-25.684378</td>\n",
       "      <td>1</td>\n",
       "    </tr>\n",
       "    <tr>\n",
       "      <th>6142</th>\n",
       "      <td>-24.512467</td>\n",
       "      <td>-22.754601</td>\n",
       "      <td>-20.606098</td>\n",
       "      <td>-17.676321</td>\n",
       "      <td>-14.160588</td>\n",
       "      <td>-12.012085</td>\n",
       "      <td>-12.305063</td>\n",
       "      <td>-13.672292</td>\n",
       "      <td>-13.769951</td>\n",
       "      <td>-12.891018</td>\n",
       "      <td>...</td>\n",
       "      <td>10.156560</td>\n",
       "      <td>11.328471</td>\n",
       "      <td>11.035493</td>\n",
       "      <td>9.277627</td>\n",
       "      <td>7.519761</td>\n",
       "      <td>7.324442</td>\n",
       "      <td>8.301035</td>\n",
       "      <td>8.594012</td>\n",
       "      <td>7.226783</td>\n",
       "      <td>1</td>\n",
       "    </tr>\n",
       "    <tr>\n",
       "      <th>6143</th>\n",
       "      <td>5.468917</td>\n",
       "      <td>4.882962</td>\n",
       "      <td>5.371258</td>\n",
       "      <td>5.566576</td>\n",
       "      <td>4.785302</td>\n",
       "      <td>3.515732</td>\n",
       "      <td>1.464888</td>\n",
       "      <td>-1.074252</td>\n",
       "      <td>-2.832118</td>\n",
       "      <td>-2.148503</td>\n",
       "      <td>...</td>\n",
       "      <td>-1.562548</td>\n",
       "      <td>-1.171911</td>\n",
       "      <td>-0.195318</td>\n",
       "      <td>-0.097659</td>\n",
       "      <td>-1.171911</td>\n",
       "      <td>-1.269570</td>\n",
       "      <td>1.171911</td>\n",
       "      <td>4.589984</td>\n",
       "      <td>6.152532</td>\n",
       "      <td>1</td>\n",
       "    </tr>\n",
       "  </tbody>\n",
       "</table>\n",
       "<p>6144 rows × 101 columns</p>\n",
       "</div>"
      ],
      "text/plain": [
       "             x1         x2         x3         x4         x5         x6  \\\n",
       "0     13.574633   0.488296   7.812738  20.996735  18.359935   4.492325   \n",
       "1     27.832881  13.769951  -5.957213  -6.933805   1.269570  -6.250191   \n",
       "2    -44.630268 -23.340556  16.406751  21.778008   1.855525   5.078280   \n",
       "3      4.980621   2.246162   2.148503   1.757866  -2.929777  -6.152532   \n",
       "4    -21.192053 -10.840175 -12.695700 -16.992706  -8.203375   0.781274   \n",
       "...         ...        ...        ...        ...        ...        ...   \n",
       "6139  -2.636799  -2.929777  -2.050844  -1.269570  -2.343822  -4.492325   \n",
       "6140 -10.742515 -11.523789 -14.551225 -18.457595 -21.875668 -24.121830   \n",
       "6141 -11.523789 -11.621448 -13.867611 -16.504410 -17.090365 -15.430158   \n",
       "6142 -24.512467 -22.754601 -20.606098 -17.676321 -14.160588 -12.012085   \n",
       "6143   5.468917   4.882962   5.371258   5.566576   4.785302   3.515732   \n",
       "\n",
       "             x7         x8         x9        x10  ...        x92        x93  \\\n",
       "0     -0.878933   6.152532  12.695700  12.598041  ... -18.750572   3.320414   \n",
       "1    -23.242897 -23.145238  -5.957213   4.199347  ... -45.899838  -4.297006   \n",
       "2     25.098422  11.133152 -35.840938 -56.642354  ...  25.391400  16.211432   \n",
       "3     -3.711051  -7.910398 -27.832881 -42.286447  ... -29.200110 -16.895047   \n",
       "4     -6.640828 -14.648885  -0.976592  18.359935  ...  32.227546  12.012085   \n",
       "...         ...        ...        ...        ...  ...        ...        ...   \n",
       "6139  -5.273598  -4.785302  -5.078280  -6.738487  ...  -7.519761  -3.613392   \n",
       "6140 -25.098422 -24.610126 -23.828852 -23.828852  ...  -9.668264  -8.203375   \n",
       "6141 -13.965270 -15.625477 -18.164617 -16.504410  ... -19.238868 -27.149266   \n",
       "6142 -12.305063 -13.672292 -13.769951 -12.891018  ...  10.156560  11.328471   \n",
       "6143   1.464888  -1.074252  -2.832118  -2.148503  ...  -1.562548  -1.171911   \n",
       "\n",
       "            x94        x95        x96        x97        x98        x99  \\\n",
       "0     24.903104  29.004791  21.778008  10.449538   0.195318   2.148503   \n",
       "1     58.986175  70.021668  12.109745 -41.895810 -38.184759 -15.723136   \n",
       "2    -16.992706 -39.356670 -34.473708 -16.895047  -3.711051   3.027436   \n",
       "3     -4.785302 -12.988678 -23.438215 -16.211432  -6.836146 -14.551225   \n",
       "4    -12.500381  -5.664235  23.340556  34.766686  14.160588 -11.035493   \n",
       "...         ...        ...        ...        ...        ...        ...   \n",
       "6139   1.171911   4.882962   5.371258   1.660207  -4.589984  -9.472945   \n",
       "6140  -8.105716  -7.617420  -7.715079 -10.156560 -13.574633 -14.844203   \n",
       "6141 -32.715842 -33.301798 -29.590747 -25.684378 -24.414808 -25.293741   \n",
       "6142  11.035493   9.277627   7.519761   7.324442   8.301035   8.594012   \n",
       "6143  -0.195318  -0.097659  -1.171911  -1.269570   1.171911   4.589984   \n",
       "\n",
       "           x100  Class  \n",
       "0     18.555254      0  \n",
       "1    -26.172674      0  \n",
       "2      6.152532      0  \n",
       "3    -25.977355      0  \n",
       "4    -14.258248      0  \n",
       "...         ...    ...  \n",
       "6139 -11.035493      1  \n",
       "6140 -13.379315      1  \n",
       "6141 -25.684378      1  \n",
       "6142   7.226783      1  \n",
       "6143   6.152532      1  \n",
       "\n",
       "[6144 rows x 101 columns]"
      ]
     },
     "execution_count": 98,
     "metadata": {},
     "output_type": "execute_result"
    }
   ],
   "source": [
    "# inspect\n",
    "df"
   ]
  },
  {
   "cell_type": "code",
   "execution_count": 99,
   "id": "84608ed7",
   "metadata": {},
   "outputs": [
    {
     "data": {
      "text/plain": [
       "x1       float64\n",
       "x2       float64\n",
       "x3       float64\n",
       "x4       float64\n",
       "x5       float64\n",
       "          ...   \n",
       "x97      float64\n",
       "x98      float64\n",
       "x99      float64\n",
       "x100     float64\n",
       "Class      int64\n",
       "Length: 101, dtype: object"
      ]
     },
     "execution_count": 99,
     "metadata": {},
     "output_type": "execute_result"
    }
   ],
   "source": [
    "# inspect types \n",
    "df.dtypes"
   ]
  },
  {
   "cell_type": "code",
   "execution_count": 100,
   "id": "66f93990",
   "metadata": {},
   "outputs": [
    {
     "data": {
      "text/plain": [
       "101"
      ]
     },
     "execution_count": 100,
     "metadata": {},
     "output_type": "execute_result"
    }
   ],
   "source": [
    "df.shape[1]"
   ]
  },
  {
   "cell_type": "code",
   "execution_count": 101,
   "id": "12a1c44d",
   "metadata": {},
   "outputs": [],
   "source": [
    "X = df.iloc[:,0:df.shape[1] -1].values\n",
    "#\n",
    "#scaler = MinMaxScaler()\n",
    "#X  = scaler.fit_transform(X.T).T\n",
    "#\n",
    "y = df.iloc[: , -1:].values"
   ]
  },
  {
   "cell_type": "code",
   "execution_count": 102,
   "id": "3369d6af",
   "metadata": {},
   "outputs": [
    {
     "data": {
      "text/plain": [
       "array([[ 13.57463301,   0.48829615,   7.81273843, ...,   0.19531846,\n",
       "          2.14850307,  18.55525376],\n",
       "       [ 27.83288064,  13.76995148,  -5.95721305, ..., -38.18475906,\n",
       "        -15.72313608, -26.17267373],\n",
       "       [-44.63026826, -23.34055605,  16.40675069, ...,  -3.71105075,\n",
       "          3.02743614,   6.15253151],\n",
       "       ...,\n",
       "       [-11.52378918, -11.62144841, -13.86761071, ..., -24.41480758,\n",
       "        -25.29374065, -25.68437757],\n",
       "       [-24.51246681, -22.75460067, -20.6060976 , ...,   8.30103458,\n",
       "          8.59401227,   7.22678304],\n",
       "       [  5.4689169 ,   4.88296152,   5.37125767, ...,   1.17191076,\n",
       "          4.58998383,   6.15253151]])"
      ]
     },
     "execution_count": 102,
     "metadata": {},
     "output_type": "execute_result"
    }
   ],
   "source": [
    "X"
   ]
  },
  {
   "cell_type": "code",
   "execution_count": 103,
   "id": "9f56acbb",
   "metadata": {},
   "outputs": [
    {
     "data": {
      "text/plain": [
       "array([[0],\n",
       "       [0],\n",
       "       [0],\n",
       "       ...,\n",
       "       [1],\n",
       "       [1],\n",
       "       [1]])"
      ]
     },
     "execution_count": 103,
     "metadata": {},
     "output_type": "execute_result"
    }
   ],
   "source": [
    "y"
   ]
  },
  {
   "cell_type": "code",
   "execution_count": 104,
   "id": "60634442",
   "metadata": {},
   "outputs": [],
   "source": [
    "#\n",
    "path     = os.getcwd()\n",
    "folder   = 'results2'\n",
    "#\n",
    "if not os.path.exists(path+'/'+folder):\n",
    "    os.mkdir(path+'/'+folder)\n",
    "\n",
    "#\n",
    "l_SEEDS  = list(range(1,100))#[658,847,688,84,535,396]\n",
    "n_seeds  = 3\n",
    "#SEED     = 98741\n",
    "n_trials = 50\n",
    "l_TUNER    = [\"hyperband\",'random','greedy','bayesian']#['random','greedy','bayesian']#['random']#"
   ]
  },
  {
   "cell_type": "code",
   "execution_count": 107,
   "id": "82a0e6dd",
   "metadata": {},
   "outputs": [
    {
     "name": "stdout",
     "output_type": "stream",
     "text": [
      "Trial 50 Complete [00h 00m 50s]\n",
      "val_accuracy: 0.9796582460403442\n",
      "\n",
      "Best val_accuracy So Far: 0.981285572052002\n",
      "Total elapsed time: 01h 07m 12s\n",
      "39/39 [==============================] - 0s 1ms/step\n",
      "[[603  11]\n",
      " [ 12 603]]\n",
      "              precision    recall  f1-score   support\n",
      "\n",
      "           0       0.98      0.98      0.98       614\n",
      "           1       0.98      0.98      0.98       615\n",
      "\n",
      "    accuracy                           0.98      1229\n",
      "   macro avg       0.98      0.98      0.98      1229\n",
      "weighted avg       0.98      0.98      0.98      1229\n",
      "\n"
     ]
    },
    {
     "ename": "NameError",
     "evalue": "name 'target_names' is not defined",
     "output_type": "error",
     "traceback": [
      "\u001b[0;31m---------------------------------------------------------------------------\u001b[0m",
      "\u001b[0;31mNameError\u001b[0m                                 Traceback (most recent call last)",
      "\u001b[0;32m<timed exec>\u001b[0m in \u001b[0;36m<module>\u001b[0;34m\u001b[0m\n",
      "\u001b[0;31mNameError\u001b[0m: name 'target_names' is not defined"
     ]
    }
   ],
   "source": [
    "%%time\n",
    "#for i in range(n_seeds):\n",
    "while True:\n",
    "    \n",
    "    # some hyper parameters\n",
    "    TUNER = np.random.choice(l_TUNER)\n",
    "    SEED  = int(np.random.choice(l_SEEDS))\n",
    "    RS1   = int(np.random.choice(list(range(1,30))))\n",
    "    #RS2  = int(np.random.choice(l_SEEDS))\n",
    "\n",
    "    # train test split\n",
    "    X_train, X_test, y_train, y_test = train_test_split(X, y,\n",
    "                                                        train_size=0.8, random_state=RS1, stratify=y)\n",
    "    \n",
    "    # regressor\n",
    "    clf = ak.StructuredDataClassifier(num_classes = 2,overwrite=True, \n",
    "                                  max_trials=n_trials, \n",
    "                                  objective='val_accuracy', \n",
    "                                  seed = SEED, tuner = TUNER)\n",
    "    \n",
    "    # fit\n",
    "    clf.fit(x=X_train, y=y_train, validation_data =(X_test, y_test))\n",
    "    \n",
    "    # ak Predict\n",
    "    y_pred = clf.predict(X_test)\n",
    "    \n",
    "    # Results\n",
    "    # confusion matrix\n",
    "    cm   = confusion_matrix(y_test, y_pred)\n",
    "    print(cm)\n",
    "    #\n",
    "    print(classification_report(y_test, y_pred))\n",
    "    cr_d = classification_report(y_test, y_pred, output_dict=True)\n",
    "    acc  = cr_d['accuracy']\n",
    "    rc1  = cr_d['1']['recall']\n",
    "    #\n",
    "    if cr_d['accuracy'] > 0.9:\n",
    "        print('Saving model...')\n",
    "        model = clf.export_model()\n",
    "        model.summary()\n",
    "        #mname = \"model\"+'_r2_'+str(round(reg_results(y_test,y_pred)[0],4))+'_'+TUNER#'.h5'\n",
    "        mname = 'acc_'+str(round(acc,4))+'_rc1_'+str(round(rc1,4))+'_'+TUNER+'_rs_'+str(RS1)\n",
    "        try:\n",
    "            model.save(folder+'/'+mname)#, save_format=\"tf\")\n",
    "        except Exception:\n",
    "            model.save(folder+'/'+mname+\".h5\")\n",
    "        #model.save(folder+'/'+mname+'.tf') # try .h5 too\n",
    "        # model\n",
    "        tf.keras.utils.plot_model(model, to_file=folder+'/'+mname+'/model.png', \n",
    "                                  rankdir='TB', \n",
    "                                  show_shapes=True, show_layer_names=True, expand_nested=False, dpi=96)    "
   ]
  },
  {
   "cell_type": "code",
   "execution_count": 112,
   "id": "518a478d",
   "metadata": {},
   "outputs": [
    {
     "name": "stdout",
     "output_type": "stream",
     "text": [
      "Saving model...\n",
      "Model: \"functional_1\"\n",
      "_________________________________________________________________\n",
      "Layer (type)                 Output Shape              Param #   \n",
      "=================================================================\n",
      "input_1 (InputLayer)         [(None, 100)]             0         \n",
      "_________________________________________________________________\n",
      "multi_category_encoding (Mul (None, 100)               0         \n",
      "_________________________________________________________________\n",
      "normalization (Normalization (None, 100)               201       \n",
      "_________________________________________________________________\n",
      "dense (Dense)                (None, 1024)              103424    \n",
      "_________________________________________________________________\n",
      "batch_normalization (BatchNo (None, 1024)              4096      \n",
      "_________________________________________________________________\n",
      "re_lu (ReLU)                 (None, 1024)              0         \n",
      "_________________________________________________________________\n",
      "dropout (Dropout)            (None, 1024)              0         \n",
      "_________________________________________________________________\n",
      "dense_1 (Dense)              (None, 16)                16400     \n",
      "_________________________________________________________________\n",
      "batch_normalization_1 (Batch (None, 16)                64        \n",
      "_________________________________________________________________\n",
      "re_lu_1 (ReLU)               (None, 16)                0         \n",
      "_________________________________________________________________\n",
      "dropout_1 (Dropout)          (None, 16)                0         \n",
      "_________________________________________________________________\n",
      "dense_2 (Dense)              (None, 1)                 17        \n",
      "_________________________________________________________________\n",
      "classification_head_1 (Activ (None, 1)                 0         \n",
      "=================================================================\n",
      "Total params: 124,202\n",
      "Trainable params: 121,921\n",
      "Non-trainable params: 2,281\n",
      "_________________________________________________________________\n"
     ]
    }
   ],
   "source": [
    "cr_d = classification_report(y_test, y_pred, output_dict=True)\n",
    "acc  = cr_d['accuracy']\n",
    "rc1  = cr_d['1']['recall']\n",
    "#\n",
    "if cr_d['accuracy'] > 0.9:\n",
    "    print('Saving model...')\n",
    "    model = clf.export_model()\n",
    "    model.summary()\n",
    "    #mname = \"model\"+'_r2_'+str(round(reg_results(y_test,y_pred)[0],4))+'_'+TUNER#'.h5'\n",
    "    mname = 'acc_'+str(round(acc,4))+'_rc1_'+str(round(rc1,4))+'_'+TUNER+'_rs_'+str(RS1)\n",
    "    try:\n",
    "        model.save(folder+'/'+mname)#, save_format=\"tf\")\n",
    "    except Exception:\n",
    "        model.save(folder+'/'+mname+\".h5\")\n",
    "    #model.save(folder+'/'+mname+'.tf') # try .h5 too\n",
    "    # model\n",
    "    tf.keras.utils.plot_model(model, to_file=folder+'/'+mname+'/model.png', \n",
    "                              rankdir='TB', \n",
    "                              show_shapes=True, show_layer_names=True, expand_nested=False, dpi=96)    "
   ]
  },
  {
   "cell_type": "code",
   "execution_count": 69,
   "id": "82e48493",
   "metadata": {},
   "outputs": [],
   "source": [
    "# autoKeras cfg\n",
    "#l_SEED   = [658,847,688,84,535,396]\n",
    "#n_seeds  = 1\n",
    "SEED     = 19\n",
    "n_trials = 100\n",
    "TUNER    = \"hyperband\"#'random'#'greedy'#\"'bayesian'#\n",
    "#\n",
    "clf = ak.StructuredDataClassifier(num_classes = 2,overwrite=True, \n",
    "                                  max_trials=n_trials, \n",
    "                                  objective='val_accuracy', \n",
    "                                  seed = SEED, tuner = TUNER)\n",
    "\n",
    "\n",
    "#\n",
    "l_SEEDS  = list(range(1,100))#[658,847,688,84,535,396]\n",
    "n_seeds  = 3\n",
    "#SEED     = 98741\n",
    "n_trials = 100\n",
    "l_TUNER    = [\"hyperband\",'random','greedy','bayesian']#['random','greedy','bayesian']#['random']#"
   ]
  },
  {
   "cell_type": "code",
   "execution_count": 70,
   "id": "b02eaad1",
   "metadata": {},
   "outputs": [
    {
     "name": "stdout",
     "output_type": "stream",
     "text": [
      "Trial 100 Complete [00h 00m 05s]\n",
      "val_accuracy: 0.6126932501792908\n",
      "\n",
      "Best val_accuracy So Far: 0.7445077300071716\n",
      "Total elapsed time: 00h 06m 17s\n",
      "INFO:tensorflow:Oracle triggered exit\n"
     ]
    },
    {
     "name": "stderr",
     "output_type": "stream",
     "text": [
      "INFO:tensorflow:Oracle triggered exit\n"
     ]
    },
    {
     "name": "stdout",
     "output_type": "stream",
     "text": [
      "WARNING:tensorflow:Layer multi_category_encoding is casting an input tensor from dtype float64 to the layer's dtype of float32, which is new behavior in TensorFlow 2.  The layer has dtype float32 because its dtype defaults to floatx.\n",
      "\n",
      "If you intended to run this layer in float32, you can safely ignore this warning. If in doubt, this warning is likely only an issue if you are porting a TensorFlow 1.X model to TensorFlow 2.\n",
      "\n",
      "To change all layers to have dtype float64 by default, call `tf.keras.backend.set_floatx('float64')`. To change just this layer, pass dtype='float64' to the layer constructor. If you are the author of this layer, you can disable autocasting by passing autocast=False to the base Layer constructor.\n",
      "\n"
     ]
    },
    {
     "name": "stderr",
     "output_type": "stream",
     "text": [
      "WARNING:tensorflow:Layer multi_category_encoding is casting an input tensor from dtype float64 to the layer's dtype of float32, which is new behavior in TensorFlow 2.  The layer has dtype float32 because its dtype defaults to floatx.\n",
      "\n",
      "If you intended to run this layer in float32, you can safely ignore this warning. If in doubt, this warning is likely only an issue if you are porting a TensorFlow 1.X model to TensorFlow 2.\n",
      "\n",
      "To change all layers to have dtype float64 by default, call `tf.keras.backend.set_floatx('float64')`. To change just this layer, pass dtype='float64' to the layer constructor. If you are the author of this layer, you can disable autocasting by passing autocast=False to the base Layer constructor.\n",
      "\n"
     ]
    },
    {
     "name": "stdout",
     "output_type": "stream",
     "text": [
      "INFO:tensorflow:Assets written to: ./structured_data_classifier/best_model/assets\n"
     ]
    },
    {
     "name": "stderr",
     "output_type": "stream",
     "text": [
      "INFO:tensorflow:Assets written to: ./structured_data_classifier/best_model/assets\n"
     ]
    },
    {
     "name": "stdout",
     "output_type": "stream",
     "text": [
      "WARNING:tensorflow:Unresolved object in checkpoint: (root).optimizer.iter\n"
     ]
    },
    {
     "name": "stderr",
     "output_type": "stream",
     "text": [
      "WARNING:tensorflow:Unresolved object in checkpoint: (root).optimizer.iter\n"
     ]
    },
    {
     "name": "stdout",
     "output_type": "stream",
     "text": [
      "WARNING:tensorflow:Unresolved object in checkpoint: (root).optimizer.beta_1\n"
     ]
    },
    {
     "name": "stderr",
     "output_type": "stream",
     "text": [
      "WARNING:tensorflow:Unresolved object in checkpoint: (root).optimizer.beta_1\n"
     ]
    },
    {
     "name": "stdout",
     "output_type": "stream",
     "text": [
      "WARNING:tensorflow:Unresolved object in checkpoint: (root).optimizer.beta_2\n"
     ]
    },
    {
     "name": "stderr",
     "output_type": "stream",
     "text": [
      "WARNING:tensorflow:Unresolved object in checkpoint: (root).optimizer.beta_2\n"
     ]
    },
    {
     "name": "stdout",
     "output_type": "stream",
     "text": [
      "WARNING:tensorflow:Unresolved object in checkpoint: (root).optimizer.decay\n"
     ]
    },
    {
     "name": "stderr",
     "output_type": "stream",
     "text": [
      "WARNING:tensorflow:Unresolved object in checkpoint: (root).optimizer.decay\n"
     ]
    },
    {
     "name": "stdout",
     "output_type": "stream",
     "text": [
      "WARNING:tensorflow:Unresolved object in checkpoint: (root).optimizer.learning_rate\n"
     ]
    },
    {
     "name": "stderr",
     "output_type": "stream",
     "text": [
      "WARNING:tensorflow:Unresolved object in checkpoint: (root).optimizer.learning_rate\n"
     ]
    },
    {
     "name": "stdout",
     "output_type": "stream",
     "text": [
      "WARNING:tensorflow:A checkpoint was restored (e.g. tf.train.Checkpoint.restore or tf.keras.Model.load_weights) but not all checkpointed values were used. See above for specific issues. Use expect_partial() on the load status object, e.g. tf.train.Checkpoint.restore(...).expect_partial(), to silence these warnings, or use assert_consumed() to make the check explicit. See https://www.tensorflow.org/guide/checkpoint#loading_mechanics for details.\n"
     ]
    },
    {
     "name": "stderr",
     "output_type": "stream",
     "text": [
      "WARNING:tensorflow:A checkpoint was restored (e.g. tf.train.Checkpoint.restore or tf.keras.Model.load_weights) but not all checkpointed values were used. See above for specific issues. Use expect_partial() on the load status object, e.g. tf.train.Checkpoint.restore(...).expect_partial(), to silence these warnings, or use assert_consumed() to make the check explicit. See https://www.tensorflow.org/guide/checkpoint#loading_mechanics for details.\n"
     ]
    },
    {
     "name": "stdout",
     "output_type": "stream",
     "text": [
      "CPU times: user 7min 15s, sys: 19.4 s, total: 7min 34s\n",
      "Wall time: 6min 26s\n"
     ]
    }
   ],
   "source": [
    "%%time\n",
    "# fit\n",
    "\n",
    "#\n",
    "clf.fit(x=X_train, y=y_train, validation_data =(X_test, y_test))"
   ]
  },
  {
   "cell_type": "code",
   "execution_count": 36,
   "id": "f2995d5c",
   "metadata": {},
   "outputs": [
    {
     "ename": "NotFoundError",
     "evalue": "./structured_data_classifier/best_pipeline; No such file or directory",
     "output_type": "error",
     "traceback": [
      "\u001b[0;31m---------------------------------------------------------------------------\u001b[0m",
      "\u001b[0;31mNotFoundError\u001b[0m                             Traceback (most recent call last)",
      "\u001b[0;32m/tmp/ipykernel_8000/1599385667.py\u001b[0m in \u001b[0;36m<module>\u001b[0;34m\u001b[0m\n\u001b[1;32m      1\u001b[0m \u001b[0;31m# ak Predict\u001b[0m\u001b[0;34m\u001b[0m\u001b[0;34m\u001b[0m\u001b[0;34m\u001b[0m\u001b[0m\n\u001b[1;32m      2\u001b[0m \u001b[0;31m#\u001b[0m\u001b[0;34m\u001b[0m\u001b[0;34m\u001b[0m\u001b[0;34m\u001b[0m\u001b[0m\n\u001b[0;32m----> 3\u001b[0;31m \u001b[0my_pred\u001b[0m \u001b[0;34m=\u001b[0m \u001b[0mclf\u001b[0m\u001b[0;34m.\u001b[0m\u001b[0mpredict\u001b[0m\u001b[0;34m(\u001b[0m\u001b[0mX_test\u001b[0m\u001b[0;34m)\u001b[0m\u001b[0;34m\u001b[0m\u001b[0;34m\u001b[0m\u001b[0m\n\u001b[0m",
      "\u001b[0;32m~/anaconda3/envs/automl-tf/lib/python3.8/site-packages/autokeras/tasks/structured_data.py\u001b[0m in \u001b[0;36mpredict\u001b[0;34m(self, x, **kwargs)\u001b[0m\n\u001b[1;32m    163\u001b[0m         \u001b[0mx\u001b[0m \u001b[0;34m=\u001b[0m \u001b[0mself\u001b[0m\u001b[0;34m.\u001b[0m\u001b[0mread_for_predict\u001b[0m\u001b[0;34m(\u001b[0m\u001b[0mx\u001b[0m\u001b[0;34m)\u001b[0m\u001b[0;34m\u001b[0m\u001b[0;34m\u001b[0m\u001b[0m\n\u001b[1;32m    164\u001b[0m \u001b[0;34m\u001b[0m\u001b[0m\n\u001b[0;32m--> 165\u001b[0;31m         \u001b[0;32mreturn\u001b[0m \u001b[0msuper\u001b[0m\u001b[0;34m(\u001b[0m\u001b[0;34m)\u001b[0m\u001b[0;34m.\u001b[0m\u001b[0mpredict\u001b[0m\u001b[0;34m(\u001b[0m\u001b[0mx\u001b[0m\u001b[0;34m=\u001b[0m\u001b[0mx\u001b[0m\u001b[0;34m,\u001b[0m \u001b[0;34m**\u001b[0m\u001b[0mkwargs\u001b[0m\u001b[0;34m)\u001b[0m\u001b[0;34m\u001b[0m\u001b[0;34m\u001b[0m\u001b[0m\n\u001b[0m\u001b[1;32m    166\u001b[0m \u001b[0;34m\u001b[0m\u001b[0m\n\u001b[1;32m    167\u001b[0m     \u001b[0;32mdef\u001b[0m \u001b[0mevaluate\u001b[0m\u001b[0;34m(\u001b[0m\u001b[0mself\u001b[0m\u001b[0;34m,\u001b[0m \u001b[0mx\u001b[0m\u001b[0;34m,\u001b[0m \u001b[0my\u001b[0m\u001b[0;34m=\u001b[0m\u001b[0;32mNone\u001b[0m\u001b[0;34m,\u001b[0m \u001b[0;34m**\u001b[0m\u001b[0mkwargs\u001b[0m\u001b[0;34m)\u001b[0m\u001b[0;34m:\u001b[0m\u001b[0;34m\u001b[0m\u001b[0;34m\u001b[0m\u001b[0m\n",
      "\u001b[0;32m~/anaconda3/envs/automl-tf/lib/python3.8/site-packages/autokeras/auto_model.py\u001b[0m in \u001b[0;36mpredict\u001b[0;34m(self, x, batch_size, verbose, **kwargs)\u001b[0m\n\u001b[1;32m    440\u001b[0m         \u001b[0mself\u001b[0m\u001b[0;34m.\u001b[0m\u001b[0m_check_data_format\u001b[0m\u001b[0;34m(\u001b[0m\u001b[0;34m(\u001b[0m\u001b[0mx\u001b[0m\u001b[0;34m,\u001b[0m \u001b[0;32mNone\u001b[0m\u001b[0;34m)\u001b[0m\u001b[0;34m,\u001b[0m \u001b[0mpredict\u001b[0m\u001b[0;34m=\u001b[0m\u001b[0;32mTrue\u001b[0m\u001b[0;34m)\u001b[0m\u001b[0;34m\u001b[0m\u001b[0;34m\u001b[0m\u001b[0m\n\u001b[1;32m    441\u001b[0m         \u001b[0mdataset\u001b[0m \u001b[0;34m=\u001b[0m \u001b[0mself\u001b[0m\u001b[0;34m.\u001b[0m\u001b[0m_adapt\u001b[0m\u001b[0;34m(\u001b[0m\u001b[0mx\u001b[0m\u001b[0;34m,\u001b[0m \u001b[0mself\u001b[0m\u001b[0;34m.\u001b[0m\u001b[0minputs\u001b[0m\u001b[0;34m,\u001b[0m \u001b[0mbatch_size\u001b[0m\u001b[0;34m)\u001b[0m\u001b[0;34m\u001b[0m\u001b[0;34m\u001b[0m\u001b[0m\n\u001b[0;32m--> 442\u001b[0;31m         \u001b[0mpipeline\u001b[0m \u001b[0;34m=\u001b[0m \u001b[0mself\u001b[0m\u001b[0;34m.\u001b[0m\u001b[0mtuner\u001b[0m\u001b[0;34m.\u001b[0m\u001b[0mget_best_pipeline\u001b[0m\u001b[0;34m(\u001b[0m\u001b[0;34m)\u001b[0m\u001b[0;34m\u001b[0m\u001b[0;34m\u001b[0m\u001b[0m\n\u001b[0m\u001b[1;32m    443\u001b[0m         \u001b[0mmodel\u001b[0m \u001b[0;34m=\u001b[0m \u001b[0mself\u001b[0m\u001b[0;34m.\u001b[0m\u001b[0mtuner\u001b[0m\u001b[0;34m.\u001b[0m\u001b[0mget_best_model\u001b[0m\u001b[0;34m(\u001b[0m\u001b[0;34m)\u001b[0m\u001b[0;34m\u001b[0m\u001b[0;34m\u001b[0m\u001b[0m\n\u001b[1;32m    444\u001b[0m         \u001b[0mdataset\u001b[0m \u001b[0;34m=\u001b[0m \u001b[0mpipeline\u001b[0m\u001b[0;34m.\u001b[0m\u001b[0mtransform_x\u001b[0m\u001b[0;34m(\u001b[0m\u001b[0mdataset\u001b[0m\u001b[0;34m)\u001b[0m\u001b[0;34m\u001b[0m\u001b[0;34m\u001b[0m\u001b[0m\n",
      "\u001b[0;32m~/anaconda3/envs/automl-tf/lib/python3.8/site-packages/autokeras/engine/tuner.py\u001b[0m in \u001b[0;36mget_best_pipeline\u001b[0;34m(self)\u001b[0m\n\u001b[1;32m     65\u001b[0m \u001b[0;34m\u001b[0m\u001b[0m\n\u001b[1;32m     66\u001b[0m     \u001b[0;32mdef\u001b[0m \u001b[0mget_best_pipeline\u001b[0m\u001b[0;34m(\u001b[0m\u001b[0mself\u001b[0m\u001b[0;34m)\u001b[0m\u001b[0;34m:\u001b[0m\u001b[0;34m\u001b[0m\u001b[0;34m\u001b[0m\u001b[0m\n\u001b[0;32m---> 67\u001b[0;31m         \u001b[0;32mreturn\u001b[0m \u001b[0mpipeline_module\u001b[0m\u001b[0;34m.\u001b[0m\u001b[0mload_pipeline\u001b[0m\u001b[0;34m(\u001b[0m\u001b[0mself\u001b[0m\u001b[0;34m.\u001b[0m\u001b[0mbest_pipeline_path\u001b[0m\u001b[0;34m)\u001b[0m\u001b[0;34m\u001b[0m\u001b[0;34m\u001b[0m\u001b[0m\n\u001b[0m\u001b[1;32m     68\u001b[0m \u001b[0;34m\u001b[0m\u001b[0m\n\u001b[1;32m     69\u001b[0m     \u001b[0;32mdef\u001b[0m \u001b[0m_pipeline_path\u001b[0m\u001b[0;34m(\u001b[0m\u001b[0mself\u001b[0m\u001b[0;34m,\u001b[0m \u001b[0mtrial_id\u001b[0m\u001b[0;34m)\u001b[0m\u001b[0;34m:\u001b[0m\u001b[0;34m\u001b[0m\u001b[0;34m\u001b[0m\u001b[0m\n",
      "\u001b[0;32m~/anaconda3/envs/automl-tf/lib/python3.8/site-packages/autokeras/pipeline.py\u001b[0m in \u001b[0;36mload_pipeline\u001b[0;34m(filepath, custom_objects)\u001b[0m\n\u001b[1;32m     74\u001b[0m         \u001b[0mcustom_objects\u001b[0m \u001b[0;34m=\u001b[0m \u001b[0;34m{\u001b[0m\u001b[0;34m}\u001b[0m\u001b[0;34m\u001b[0m\u001b[0;34m\u001b[0m\u001b[0m\n\u001b[1;32m     75\u001b[0m     \u001b[0;32mwith\u001b[0m \u001b[0mtf\u001b[0m\u001b[0;34m.\u001b[0m\u001b[0mkeras\u001b[0m\u001b[0;34m.\u001b[0m\u001b[0mutils\u001b[0m\u001b[0;34m.\u001b[0m\u001b[0mcustom_object_scope\u001b[0m\u001b[0;34m(\u001b[0m\u001b[0mcustom_objects\u001b[0m\u001b[0;34m)\u001b[0m\u001b[0;34m:\u001b[0m\u001b[0;34m\u001b[0m\u001b[0;34m\u001b[0m\u001b[0m\n\u001b[0;32m---> 76\u001b[0;31m         \u001b[0;32mreturn\u001b[0m \u001b[0mPipeline\u001b[0m\u001b[0;34m.\u001b[0m\u001b[0mfrom_config\u001b[0m\u001b[0;34m(\u001b[0m\u001b[0mio_utils\u001b[0m\u001b[0;34m.\u001b[0m\u001b[0mload_json\u001b[0m\u001b[0;34m(\u001b[0m\u001b[0mfilepath\u001b[0m\u001b[0;34m)\u001b[0m\u001b[0;34m)\u001b[0m\u001b[0;34m\u001b[0m\u001b[0;34m\u001b[0m\u001b[0m\n\u001b[0m\u001b[1;32m     77\u001b[0m \u001b[0;34m\u001b[0m\u001b[0m\n\u001b[1;32m     78\u001b[0m \u001b[0;34m\u001b[0m\u001b[0m\n",
      "\u001b[0;32m~/anaconda3/envs/automl-tf/lib/python3.8/site-packages/autokeras/utils/io_utils.py\u001b[0m in \u001b[0;36mload_json\u001b[0;34m(path)\u001b[0m\n\u001b[1;32m     32\u001b[0m \u001b[0;32mdef\u001b[0m \u001b[0mload_json\u001b[0m\u001b[0;34m(\u001b[0m\u001b[0mpath\u001b[0m\u001b[0;34m)\u001b[0m\u001b[0;34m:\u001b[0m\u001b[0;34m\u001b[0m\u001b[0;34m\u001b[0m\u001b[0m\n\u001b[1;32m     33\u001b[0m     \u001b[0;32mwith\u001b[0m \u001b[0mtf\u001b[0m\u001b[0;34m.\u001b[0m\u001b[0mio\u001b[0m\u001b[0;34m.\u001b[0m\u001b[0mgfile\u001b[0m\u001b[0;34m.\u001b[0m\u001b[0mGFile\u001b[0m\u001b[0;34m(\u001b[0m\u001b[0mpath\u001b[0m\u001b[0;34m,\u001b[0m \u001b[0;34m\"r\"\u001b[0m\u001b[0;34m)\u001b[0m \u001b[0;32mas\u001b[0m \u001b[0mf\u001b[0m\u001b[0;34m:\u001b[0m\u001b[0;34m\u001b[0m\u001b[0;34m\u001b[0m\u001b[0m\n\u001b[0;32m---> 34\u001b[0;31m         \u001b[0mobj\u001b[0m \u001b[0;34m=\u001b[0m \u001b[0mf\u001b[0m\u001b[0;34m.\u001b[0m\u001b[0mread\u001b[0m\u001b[0;34m(\u001b[0m\u001b[0;34m)\u001b[0m\u001b[0;34m\u001b[0m\u001b[0;34m\u001b[0m\u001b[0m\n\u001b[0m\u001b[1;32m     35\u001b[0m     \u001b[0;32mreturn\u001b[0m \u001b[0mjson\u001b[0m\u001b[0;34m.\u001b[0m\u001b[0mloads\u001b[0m\u001b[0;34m(\u001b[0m\u001b[0mobj\u001b[0m\u001b[0;34m)\u001b[0m\u001b[0;34m\u001b[0m\u001b[0;34m\u001b[0m\u001b[0m\n\u001b[1;32m     36\u001b[0m \u001b[0;34m\u001b[0m\u001b[0m\n",
      "\u001b[0;32m~/anaconda3/envs/automl-tf/lib/python3.8/site-packages/tensorflow/python/lib/io/file_io.py\u001b[0m in \u001b[0;36mread\u001b[0;34m(self, n)\u001b[0m\n\u001b[1;32m    114\u001b[0m       \u001b[0mstring\u001b[0m \u001b[0;32mif\u001b[0m \u001b[0;32min\u001b[0m \u001b[0mstring\u001b[0m \u001b[0;34m(\u001b[0m\u001b[0mregular\u001b[0m\u001b[0;34m)\u001b[0m \u001b[0mmode\u001b[0m\u001b[0;34m.\u001b[0m\u001b[0;34m\u001b[0m\u001b[0;34m\u001b[0m\u001b[0m\n\u001b[1;32m    115\u001b[0m     \"\"\"\n\u001b[0;32m--> 116\u001b[0;31m     \u001b[0mself\u001b[0m\u001b[0;34m.\u001b[0m\u001b[0m_preread_check\u001b[0m\u001b[0;34m(\u001b[0m\u001b[0;34m)\u001b[0m\u001b[0;34m\u001b[0m\u001b[0;34m\u001b[0m\u001b[0m\n\u001b[0m\u001b[1;32m    117\u001b[0m     \u001b[0;32mif\u001b[0m \u001b[0mn\u001b[0m \u001b[0;34m==\u001b[0m \u001b[0;34m-\u001b[0m\u001b[0;36m1\u001b[0m\u001b[0;34m:\u001b[0m\u001b[0;34m\u001b[0m\u001b[0;34m\u001b[0m\u001b[0m\n\u001b[1;32m    118\u001b[0m       \u001b[0mlength\u001b[0m \u001b[0;34m=\u001b[0m \u001b[0mself\u001b[0m\u001b[0;34m.\u001b[0m\u001b[0msize\u001b[0m\u001b[0;34m(\u001b[0m\u001b[0;34m)\u001b[0m \u001b[0;34m-\u001b[0m \u001b[0mself\u001b[0m\u001b[0;34m.\u001b[0m\u001b[0mtell\u001b[0m\u001b[0;34m(\u001b[0m\u001b[0;34m)\u001b[0m\u001b[0;34m\u001b[0m\u001b[0;34m\u001b[0m\u001b[0m\n",
      "\u001b[0;32m~/anaconda3/envs/automl-tf/lib/python3.8/site-packages/tensorflow/python/lib/io/file_io.py\u001b[0m in \u001b[0;36m_preread_check\u001b[0;34m(self)\u001b[0m\n\u001b[1;32m     76\u001b[0m         raise errors.PermissionDeniedError(None, None,\n\u001b[1;32m     77\u001b[0m                                            \"File isn't open for reading\")\n\u001b[0;32m---> 78\u001b[0;31m       self._read_buf = _pywrap_file_io.BufferedInputStream(\n\u001b[0m\u001b[1;32m     79\u001b[0m           self.__name, 1024 * 512)\n\u001b[1;32m     80\u001b[0m \u001b[0;34m\u001b[0m\u001b[0m\n",
      "\u001b[0;31mNotFoundError\u001b[0m: ./structured_data_classifier/best_pipeline; No such file or directory"
     ]
    }
   ],
   "source": [
    "# ak Predict\n",
    "#\n",
    "y_pred = clf.predict(X_test)"
   ]
  },
  {
   "cell_type": "code",
   "execution_count": 53,
   "id": "38275fdc",
   "metadata": {},
   "outputs": [
    {
     "name": "stdout",
     "output_type": "stream",
     "text": [
      "              precision    recall  f1-score   support\n",
      "\n",
      "           0       0.94      0.94      0.94       615\n",
      "           1       0.94      0.94      0.94       614\n",
      "\n",
      "    accuracy                           0.94      1229\n",
      "   macro avg       0.94      0.94      0.94      1229\n",
      "weighted avg       0.94      0.94      0.94      1229\n",
      "\n"
     ]
    }
   ],
   "source": [
    "# Results\n",
    "print(classification_report(y_test, y_pred))"
   ]
  },
  {
   "cell_type": "code",
   "execution_count": 42,
   "id": "649d9888",
   "metadata": {},
   "outputs": [
    {
     "name": "stdout",
     "output_type": "stream",
     "text": [
      "192/192 [==============================] - 0s 1ms/step - loss: 0.5257 - accuracy: 0.7414\n",
      "[0.5256620049476624, 0.7413737177848816]\n"
     ]
    }
   ],
   "source": [
    "# sanity check (accuracy)\n",
    "print(clf.evaluate(X_test, y_test))\n",
    "#tpot.score(X_test, y_test)"
   ]
  },
  {
   "cell_type": "code",
   "execution_count": 43,
   "id": "dcc8d2ea",
   "metadata": {},
   "outputs": [
    {
     "data": {
      "text/plain": [
       "array([[2362,  710],\n",
       "       [ 879, 2193]])"
      ]
     },
     "execution_count": 43,
     "metadata": {},
     "output_type": "execute_result"
    }
   ],
   "source": [
    "# confusion matrix\n",
    "cm  = confusion_matrix(y_test, y_pred)\n",
    "cm"
   ]
  },
  {
   "cell_type": "code",
   "execution_count": 44,
   "id": "3dde6263",
   "metadata": {},
   "outputs": [],
   "source": [
    "from pretty_confusion_matrix import pp_matrix"
   ]
  },
  {
   "cell_type": "code",
   "execution_count": 45,
   "id": "f83d7203",
   "metadata": {},
   "outputs": [],
   "source": [
    "#pref[ii]"
   ]
  },
  {
   "cell_type": "code",
   "execution_count": 46,
   "id": "086c20df",
   "metadata": {},
   "outputs": [
    {
     "data": {
      "image/png": "[encoded data removed]",
      "text/plain": [
       "<Figure size 576x576 with 1 Axes>"
      ]
     },
     "metadata": {
      "needs_background": "light"
     },
     "output_type": "display_data"
    }
   ],
   "source": [
    "df_cm = pd.DataFrame(cm, range(2), range(2))\n",
    "cmap  = 'jet'#'spring'#'summer'#'winter'#'RdBu'#'PuRd'#'autumn'#'prism'#\n",
    "pp_matrix(df_cm, cmap=cmap)"
   ]
  },
  {
   "cell_type": "code",
   "execution_count": 153,
   "id": "9ae8c2c8",
   "metadata": {},
   "outputs": [],
   "source": [
    "# can we use data from one person to others? vice versa?"
   ]
  },
  {
   "cell_type": "code",
   "execution_count": 166,
   "id": "7b416262",
   "metadata": {},
   "outputs": [],
   "source": [
    "# load val\n",
    "df_val = pd.read_csv('C4_10_features.csv')  \n",
    "X_val  = df_val.iloc[:,0:df_val.shape[1] -1].values\n",
    "y_val  = df_val.iloc[: , -1:].values"
   ]
  },
  {
   "cell_type": "code",
   "execution_count": 167,
   "id": "396d08d0",
   "metadata": {},
   "outputs": [
    {
     "name": "stderr",
     "output_type": "stream",
     "text": [
      "/home/askery/anaconda3/envs/pycaret+/lib/python3.7/site-packages/sklearn/utils/validation.py:72: DataConversionWarning: A column-vector y was passed when a 1d array was expected. Please change the shape of y to (n_samples, ), for example using ravel().\n",
      "  return f(**kwargs)\n"
     ]
    },
    {
     "data": {
      "text/plain": [
       "0.73974609375"
      ]
     },
     "execution_count": 167,
     "metadata": {},
     "output_type": "execute_result"
    }
   ],
   "source": [
    "# sanity check (accuracy)\n",
    "tpot.score(X_val, y_val)"
   ]
  },
  {
   "cell_type": "code",
   "execution_count": 168,
   "id": "8b616d56",
   "metadata": {},
   "outputs": [],
   "source": [
    "y_pred_val = tpot.predict(X_val)"
   ]
  },
  {
   "cell_type": "code",
   "execution_count": 169,
   "id": "daf0376c",
   "metadata": {},
   "outputs": [
    {
     "data": {
      "text/plain": [
       "array([[2207,  734],\n",
       "       [ 865, 2338]])"
      ]
     },
     "execution_count": 169,
     "metadata": {},
     "output_type": "execute_result"
    }
   ],
   "source": [
    "# confusion matrix\n",
    "cm_val  = confusion_matrix(y_pred_val, y_val)\n",
    "cm_val"
   ]
  },
  {
   "cell_type": "code",
   "execution_count": null,
   "id": "d3e5c9cb",
   "metadata": {},
   "outputs": [],
   "source": []
  },
  {
   "cell_type": "code",
   "execution_count": null,
   "id": "6dd892d0",
   "metadata": {},
   "outputs": [],
   "source": [
    "df.columns = ['X','y']"
   ]
  },
  {
   "cell_type": "code",
   "execution_count": null,
   "id": "dc864568",
   "metadata": {},
   "outputs": [],
   "source": [
    "#df = df.replace(\" \", \",\" )\n",
    "#df"
   ]
  },
  {
   "cell_type": "code",
   "execution_count": null,
   "id": "4fe18e5a",
   "metadata": {},
   "outputs": [],
   "source": [
    "df.iloc[0]['X']"
   ]
  },
  {
   "cell_type": "code",
   "execution_count": null,
   "id": "45f692a1",
   "metadata": {},
   "outputs": [],
   "source": [
    "df.replace(\"\\n\", \"\" )\n",
    "#df"
   ]
  },
  {
   "cell_type": "code",
   "execution_count": null,
   "id": "576900f7",
   "metadata": {},
   "outputs": [],
   "source": []
  }
 ],
 "metadata": {
  "kernelspec": {
   "display_name": "Python 3 (ipykernel)",
   "language": "python",
   "name": "python3"
  },
  "language_info": {
   "codemirror_mode": {
    "name": "ipython",
    "version": 3
   },
   "file_extension": ".py",
   "mimetype": "text/x-python",
   "name": "python",
   "nbconvert_exporter": "python",
   "pygments_lexer": "ipython3",
   "version": "3.8.12"
  }
 },
 "nbformat": 4,
 "nbformat_minor": 5
}
