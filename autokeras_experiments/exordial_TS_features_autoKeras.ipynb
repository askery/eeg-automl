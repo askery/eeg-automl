{
 "cells": [
  {
   "cell_type": "code",
   "execution_count": 3,
   "id": "24f9343c",
   "metadata": {},
   "outputs": [],
   "source": [
    "import autokeras as ak\n",
    "import pandas as pd\n",
    "from sklearn.model_selection import train_test_split\n",
    "from sklearn.metrics import classification_report, confusion_matrix"
   ]
  },
  {
   "cell_type": "code",
   "execution_count": 112,
   "id": "290f9f05",
   "metadata": {},
   "outputs": [],
   "source": [
    "# load\n",
    "pref = ['C4_1_','C4_5_','C4_6_', 'C4_8_', 'C4_10_']\n",
    "df_d = {}\n",
    "for i in range(len(pref)):\n",
    "    fname  = pref[i] + 'features.csv'\n",
    "    df_d[i] = pd.read_csv(fname)\n",
    "#df = pd.read_csv('C4_10_features.csv')\n",
    "#df_d[4]  "
   ]
  },
  {
   "cell_type": "code",
   "execution_count": 113,
   "id": "add15b2b",
   "metadata": {},
   "outputs": [],
   "source": [
    "df = pd.concat(df_d.values(), ignore_index=True)\n",
    "#ii = 3\n",
    "#df = df_d[ii]  "
   ]
  },
  {
   "cell_type": "code",
   "execution_count": 114,
   "id": "cc796254",
   "metadata": {},
   "outputs": [
    {
     "data": {
      "text/html": [
       "<div>\n",
       "<style scoped>\n",
       "    .dataframe tbody tr th:only-of-type {\n",
       "        vertical-align: middle;\n",
       "    }\n",
       "\n",
       "    .dataframe tbody tr th {\n",
       "        vertical-align: top;\n",
       "    }\n",
       "\n",
       "    .dataframe thead th {\n",
       "        text-align: right;\n",
       "    }\n",
       "</style>\n",
       "<table border=\"1\" class=\"dataframe\">\n",
       "  <thead>\n",
       "    <tr style=\"text-align: right;\">\n",
       "      <th></th>\n",
       "      <th>HDF</th>\n",
       "      <th>Complexity</th>\n",
       "      <th>Mobility</th>\n",
       "      <th>classe</th>\n",
       "    </tr>\n",
       "  </thead>\n",
       "  <tbody>\n",
       "    <tr>\n",
       "      <th>0</th>\n",
       "      <td>2.150808</td>\n",
       "      <td>1.438250</td>\n",
       "      <td>0.540240</td>\n",
       "      <td>0</td>\n",
       "    </tr>\n",
       "    <tr>\n",
       "      <th>1</th>\n",
       "      <td>1.977571</td>\n",
       "      <td>1.935658</td>\n",
       "      <td>0.397211</td>\n",
       "      <td>0</td>\n",
       "    </tr>\n",
       "    <tr>\n",
       "      <th>2</th>\n",
       "      <td>2.027908</td>\n",
       "      <td>1.283070</td>\n",
       "      <td>0.653880</td>\n",
       "      <td>0</td>\n",
       "    </tr>\n",
       "    <tr>\n",
       "      <th>3</th>\n",
       "      <td>2.093969</td>\n",
       "      <td>1.291287</td>\n",
       "      <td>0.667136</td>\n",
       "      <td>0</td>\n",
       "    </tr>\n",
       "    <tr>\n",
       "      <th>4</th>\n",
       "      <td>2.049368</td>\n",
       "      <td>1.350312</td>\n",
       "      <td>0.632099</td>\n",
       "      <td>0</td>\n",
       "    </tr>\n",
       "    <tr>\n",
       "      <th>...</th>\n",
       "      <td>...</td>\n",
       "      <td>...</td>\n",
       "      <td>...</td>\n",
       "      <td>...</td>\n",
       "    </tr>\n",
       "    <tr>\n",
       "      <th>30715</th>\n",
       "      <td>1.699075</td>\n",
       "      <td>2.279243</td>\n",
       "      <td>0.262907</td>\n",
       "      <td>1</td>\n",
       "    </tr>\n",
       "    <tr>\n",
       "      <th>30716</th>\n",
       "      <td>1.814246</td>\n",
       "      <td>1.893517</td>\n",
       "      <td>0.324222</td>\n",
       "      <td>1</td>\n",
       "    </tr>\n",
       "    <tr>\n",
       "      <th>30717</th>\n",
       "      <td>1.731315</td>\n",
       "      <td>2.305491</td>\n",
       "      <td>0.289293</td>\n",
       "      <td>1</td>\n",
       "    </tr>\n",
       "    <tr>\n",
       "      <th>30718</th>\n",
       "      <td>1.426440</td>\n",
       "      <td>3.283170</td>\n",
       "      <td>0.162773</td>\n",
       "      <td>1</td>\n",
       "    </tr>\n",
       "    <tr>\n",
       "      <th>30719</th>\n",
       "      <td>1.630986</td>\n",
       "      <td>2.593426</td>\n",
       "      <td>0.222225</td>\n",
       "      <td>1</td>\n",
       "    </tr>\n",
       "  </tbody>\n",
       "</table>\n",
       "<p>30720 rows × 4 columns</p>\n",
       "</div>"
      ],
      "text/plain": [
       "            HDF  Complexity  Mobility  classe\n",
       "0      2.150808    1.438250  0.540240       0\n",
       "1      1.977571    1.935658  0.397211       0\n",
       "2      2.027908    1.283070  0.653880       0\n",
       "3      2.093969    1.291287  0.667136       0\n",
       "4      2.049368    1.350312  0.632099       0\n",
       "...         ...         ...       ...     ...\n",
       "30715  1.699075    2.279243  0.262907       1\n",
       "30716  1.814246    1.893517  0.324222       1\n",
       "30717  1.731315    2.305491  0.289293       1\n",
       "30718  1.426440    3.283170  0.162773       1\n",
       "30719  1.630986    2.593426  0.222225       1\n",
       "\n",
       "[30720 rows x 4 columns]"
      ]
     },
     "execution_count": 114,
     "metadata": {},
     "output_type": "execute_result"
    }
   ],
   "source": [
    "# inspect\n",
    "df"
   ]
  },
  {
   "cell_type": "code",
   "execution_count": 115,
   "id": "84608ed7",
   "metadata": {},
   "outputs": [
    {
     "data": {
      "text/plain": [
       "HDF           float64\n",
       "Complexity    float64\n",
       "Mobility      float64\n",
       "classe          int64\n",
       "dtype: object"
      ]
     },
     "execution_count": 115,
     "metadata": {},
     "output_type": "execute_result"
    }
   ],
   "source": [
    "# inspect types \n",
    "df.dtypes"
   ]
  },
  {
   "cell_type": "code",
   "execution_count": 116,
   "id": "66f93990",
   "metadata": {},
   "outputs": [
    {
     "data": {
      "text/plain": [
       "4"
      ]
     },
     "execution_count": 116,
     "metadata": {},
     "output_type": "execute_result"
    }
   ],
   "source": [
    "df.shape[1]"
   ]
  },
  {
   "cell_type": "code",
   "execution_count": 117,
   "id": "12a1c44d",
   "metadata": {},
   "outputs": [],
   "source": [
    "X = df.iloc[:,0:df.shape[1] -1].values\n",
    "y = df.iloc[: , -1:].values"
   ]
  },
  {
   "cell_type": "code",
   "execution_count": 118,
   "id": "60634442",
   "metadata": {},
   "outputs": [],
   "source": [
    "X_train, X_test, y_train, y_test = train_test_split(X, y,\n",
    "                                                    train_size=0.8, random_state=18, stratify=y)"
   ]
  },
  {
   "cell_type": "code",
   "execution_count": 142,
   "id": "82e48493",
   "metadata": {},
   "outputs": [],
   "source": [
    "# autoKeras cfg\n",
    "#l_SEED   = [658,847,688,84,535,396]\n",
    "#n_seeds  = 1\n",
    "SEED     = 3\n",
    "n_trials = 100\n",
    "TUNER    = 'bayesian'#'greedy'#\"hyperband\"#'random'#\"\n",
    "#\n",
    "clf = ak.StructuredDataClassifier(num_classes = 2,overwrite=True, \n",
    "                                  max_trials=n_trials, \n",
    "                                  objective='val_accuracy', \n",
    "                                  seed = SEED, tuner = TUNER)"
   ]
  },
  {
   "cell_type": "code",
   "execution_count": 143,
   "id": "b02eaad1",
   "metadata": {},
   "outputs": [
    {
     "name": "stdout",
     "output_type": "stream",
     "text": [
      "Trial 100 Complete [00h 00m 23s]\n",
      "val_accuracy: 0.6316731572151184\n",
      "\n",
      "Best val_accuracy So Far: 0.6396484375\n",
      "Total elapsed time: 04h 11m 26s\n",
      "INFO:tensorflow:Oracle triggered exit\n"
     ]
    },
    {
     "name": "stderr",
     "output_type": "stream",
     "text": [
      "INFO:tensorflow:Oracle triggered exit\n"
     ]
    },
    {
     "name": "stdout",
     "output_type": "stream",
     "text": [
      "WARNING:tensorflow:Layer multi_category_encoding is casting an input tensor from dtype float64 to the layer's dtype of float32, which is new behavior in TensorFlow 2.  The layer has dtype float32 because its dtype defaults to floatx.\n",
      "\n",
      "If you intended to run this layer in float32, you can safely ignore this warning. If in doubt, this warning is likely only an issue if you are porting a TensorFlow 1.X model to TensorFlow 2.\n",
      "\n",
      "To change all layers to have dtype float64 by default, call `tf.keras.backend.set_floatx('float64')`. To change just this layer, pass dtype='float64' to the layer constructor. If you are the author of this layer, you can disable autocasting by passing autocast=False to the base Layer constructor.\n",
      "\n"
     ]
    },
    {
     "name": "stderr",
     "output_type": "stream",
     "text": [
      "WARNING:tensorflow:Layer multi_category_encoding is casting an input tensor from dtype float64 to the layer's dtype of float32, which is new behavior in TensorFlow 2.  The layer has dtype float32 because its dtype defaults to floatx.\n",
      "\n",
      "If you intended to run this layer in float32, you can safely ignore this warning. If in doubt, this warning is likely only an issue if you are porting a TensorFlow 1.X model to TensorFlow 2.\n",
      "\n",
      "To change all layers to have dtype float64 by default, call `tf.keras.backend.set_floatx('float64')`. To change just this layer, pass dtype='float64' to the layer constructor. If you are the author of this layer, you can disable autocasting by passing autocast=False to the base Layer constructor.\n",
      "\n"
     ]
    },
    {
     "name": "stdout",
     "output_type": "stream",
     "text": [
      "INFO:tensorflow:Assets written to: ./structured_data_classifier/best_model/assets\n"
     ]
    },
    {
     "name": "stderr",
     "output_type": "stream",
     "text": [
      "INFO:tensorflow:Assets written to: ./structured_data_classifier/best_model/assets\n"
     ]
    },
    {
     "name": "stdout",
     "output_type": "stream",
     "text": [
      "WARNING:tensorflow:Unresolved object in checkpoint: (root).optimizer.iter\n"
     ]
    },
    {
     "name": "stderr",
     "output_type": "stream",
     "text": [
      "WARNING:tensorflow:Unresolved object in checkpoint: (root).optimizer.iter\n"
     ]
    },
    {
     "name": "stdout",
     "output_type": "stream",
     "text": [
      "WARNING:tensorflow:Unresolved object in checkpoint: (root).optimizer.beta_1\n"
     ]
    },
    {
     "name": "stderr",
     "output_type": "stream",
     "text": [
      "WARNING:tensorflow:Unresolved object in checkpoint: (root).optimizer.beta_1\n"
     ]
    },
    {
     "name": "stdout",
     "output_type": "stream",
     "text": [
      "WARNING:tensorflow:Unresolved object in checkpoint: (root).optimizer.beta_2\n"
     ]
    },
    {
     "name": "stderr",
     "output_type": "stream",
     "text": [
      "WARNING:tensorflow:Unresolved object in checkpoint: (root).optimizer.beta_2\n"
     ]
    },
    {
     "name": "stdout",
     "output_type": "stream",
     "text": [
      "WARNING:tensorflow:Unresolved object in checkpoint: (root).optimizer.decay\n"
     ]
    },
    {
     "name": "stderr",
     "output_type": "stream",
     "text": [
      "WARNING:tensorflow:Unresolved object in checkpoint: (root).optimizer.decay\n"
     ]
    },
    {
     "name": "stdout",
     "output_type": "stream",
     "text": [
      "WARNING:tensorflow:Unresolved object in checkpoint: (root).optimizer.learning_rate\n"
     ]
    },
    {
     "name": "stderr",
     "output_type": "stream",
     "text": [
      "WARNING:tensorflow:Unresolved object in checkpoint: (root).optimizer.learning_rate\n"
     ]
    },
    {
     "name": "stdout",
     "output_type": "stream",
     "text": [
      "WARNING:tensorflow:A checkpoint was restored (e.g. tf.train.Checkpoint.restore or tf.keras.Model.load_weights) but not all checkpointed values were used. See above for specific issues. Use expect_partial() on the load status object, e.g. tf.train.Checkpoint.restore(...).expect_partial(), to silence these warnings, or use assert_consumed() to make the check explicit. See https://www.tensorflow.org/guide/checkpoint#loading_mechanics for details.\n"
     ]
    },
    {
     "name": "stderr",
     "output_type": "stream",
     "text": [
      "WARNING:tensorflow:A checkpoint was restored (e.g. tf.train.Checkpoint.restore or tf.keras.Model.load_weights) but not all checkpointed values were used. See above for specific issues. Use expect_partial() on the load status object, e.g. tf.train.Checkpoint.restore(...).expect_partial(), to silence these warnings, or use assert_consumed() to make the check explicit. See https://www.tensorflow.org/guide/checkpoint#loading_mechanics for details.\n"
     ]
    },
    {
     "name": "stdout",
     "output_type": "stream",
     "text": [
      "CPU times: user 14h 4min 2s, sys: 50min 57s, total: 14h 54min 59s\n",
      "Wall time: 4h 11min 28s\n"
     ]
    }
   ],
   "source": [
    "%%time\n",
    "# fit\n",
    "\n",
    "#\n",
    "clf.fit(x=X_train, y=y_train, validation_data =(X_test, y_test))"
   ]
  },
  {
   "cell_type": "code",
   "execution_count": 144,
   "id": "f2995d5c",
   "metadata": {},
   "outputs": [
    {
     "name": "stdout",
     "output_type": "stream",
     "text": [
      "192/192 [==============================] - 0s 878us/step\n"
     ]
    }
   ],
   "source": [
    "# ak Predict\n",
    "#\n",
    "y_pred = clf.predict(X_test)"
   ]
  },
  {
   "cell_type": "code",
   "execution_count": 145,
   "id": "38275fdc",
   "metadata": {},
   "outputs": [
    {
     "name": "stdout",
     "output_type": "stream",
     "text": [
      "              precision    recall  f1-score   support\n",
      "\n",
      "           0       0.66      0.57      0.61      3072\n",
      "           1       0.62      0.71      0.66      3072\n",
      "\n",
      "    accuracy                           0.64      6144\n",
      "   macro avg       0.64      0.64      0.64      6144\n",
      "weighted avg       0.64      0.64      0.64      6144\n",
      "\n"
     ]
    }
   ],
   "source": [
    "# Results\n",
    "print(classification_report(y_test, y_pred))"
   ]
  },
  {
   "cell_type": "code",
   "execution_count": 146,
   "id": "649d9888",
   "metadata": {},
   "outputs": [
    {
     "name": "stdout",
     "output_type": "stream",
     "text": [
      "192/192 [==============================] - 0s 905us/step - loss: 0.6050 - accuracy: 0.6396\n",
      "[0.6050277352333069, 0.6396484375]\n"
     ]
    }
   ],
   "source": [
    "# sanity check (accuracy)\n",
    "print(clf.evaluate(X_test, y_test))\n",
    "#tpot.score(X_test, y_test)"
   ]
  },
  {
   "cell_type": "code",
   "execution_count": 147,
   "id": "dcc8d2ea",
   "metadata": {},
   "outputs": [
    {
     "data": {
      "text/plain": [
       "array([[1741, 1331],\n",
       "       [ 883, 2189]])"
      ]
     },
     "execution_count": 147,
     "metadata": {},
     "output_type": "execute_result"
    }
   ],
   "source": [
    "# confusion matrix\n",
    "cm  = confusion_matrix(y_test, y_pred)\n",
    "cm"
   ]
  },
  {
   "cell_type": "code",
   "execution_count": 148,
   "id": "3dde6263",
   "metadata": {},
   "outputs": [],
   "source": [
    "from pretty_confusion_matrix import pp_matrix"
   ]
  },
  {
   "cell_type": "code",
   "execution_count": 149,
   "id": "f83d7203",
   "metadata": {},
   "outputs": [],
   "source": [
    "#pref[ii]"
   ]
  },
  {
   "cell_type": "code",
   "execution_count": 150,
   "id": "086c20df",
   "metadata": {},
   "outputs": [
    {
     "data": {
      "image/png": "[encoded data removed]",
      "text/plain": [
       "<Figure size 576x576 with 1 Axes>"
      ]
     },
     "metadata": {
      "needs_background": "light"
     },
     "output_type": "display_data"
    }
   ],
   "source": [
    "df_cm = pd.DataFrame(cm, range(2), range(2))\n",
    "cmap  = 'jet'#'spring'#'summer'#'winter'#'RdBu'#'PuRd'#'autumn'#'prism'#\n",
    "pp_matrix(df_cm, cmap=cmap)"
   ]
  },
  {
   "cell_type": "code",
   "execution_count": 153,
   "id": "9ae8c2c8",
   "metadata": {},
   "outputs": [],
   "source": [
    "# can we use data from one person to others? vice versa?"
   ]
  },
  {
   "cell_type": "code",
   "execution_count": 166,
   "id": "7b416262",
   "metadata": {},
   "outputs": [],
   "source": [
    "# load val\n",
    "df_val = pd.read_csv('C4_10_features.csv')  \n",
    "X_val  = df_val.iloc[:,0:df_val.shape[1] -1].values\n",
    "y_val  = df_val.iloc[: , -1:].values"
   ]
  },
  {
   "cell_type": "code",
   "execution_count": 167,
   "id": "396d08d0",
   "metadata": {},
   "outputs": [
    {
     "name": "stderr",
     "output_type": "stream",
     "text": [
      "/home/askery/anaconda3/envs/pycaret+/lib/python3.7/site-packages/sklearn/utils/validation.py:72: DataConversionWarning: A column-vector y was passed when a 1d array was expected. Please change the shape of y to (n_samples, ), for example using ravel().\n",
      "  return f(**kwargs)\n"
     ]
    },
    {
     "data": {
      "text/plain": [
       "0.73974609375"
      ]
     },
     "execution_count": 167,
     "metadata": {},
     "output_type": "execute_result"
    }
   ],
   "source": [
    "# sanity check (accuracy)\n",
    "tpot.score(X_val, y_val)"
   ]
  },
  {
   "cell_type": "code",
   "execution_count": 168,
   "id": "8b616d56",
   "metadata": {},
   "outputs": [],
   "source": [
    "y_pred_val = tpot.predict(X_val)"
   ]
  },
  {
   "cell_type": "code",
   "execution_count": 169,
   "id": "daf0376c",
   "metadata": {},
   "outputs": [
    {
     "data": {
      "text/plain": [
       "array([[2207,  734],\n",
       "       [ 865, 2338]])"
      ]
     },
     "execution_count": 169,
     "metadata": {},
     "output_type": "execute_result"
    }
   ],
   "source": [
    "# confusion matrix\n",
    "cm_val  = confusion_matrix(y_pred_val, y_val)\n",
    "cm_val"
   ]
  },
  {
   "cell_type": "code",
   "execution_count": null,
   "id": "d3e5c9cb",
   "metadata": {},
   "outputs": [],
   "source": []
  },
  {
   "cell_type": "code",
   "execution_count": null,
   "id": "6dd892d0",
   "metadata": {},
   "outputs": [],
   "source": [
    "df.columns = ['X','y']"
   ]
  },
  {
   "cell_type": "code",
   "execution_count": null,
   "id": "dc864568",
   "metadata": {},
   "outputs": [],
   "source": [
    "#df = df.replace(\" \", \",\" )\n",
    "#df"
   ]
  },
  {
   "cell_type": "code",
   "execution_count": null,
   "id": "4fe18e5a",
   "metadata": {},
   "outputs": [],
   "source": [
    "df.iloc[0]['X']"
   ]
  },
  {
   "cell_type": "code",
   "execution_count": null,
   "id": "45f692a1",
   "metadata": {},
   "outputs": [],
   "source": [
    "df.replace(\"\\n\", \"\" )\n",
    "#df"
   ]
  },
  {
   "cell_type": "code",
   "execution_count": null,
   "id": "576900f7",
   "metadata": {},
   "outputs": [],
   "source": []
  }
 ],
 "metadata": {
  "kernelspec": {
   "display_name": "Python 3 (ipykernel)",
   "language": "python",
   "name": "python3"
  },
  "language_info": {
   "codemirror_mode": {
    "name": "ipython",
    "version": 3
   },
   "file_extension": ".py",
   "mimetype": "text/x-python",
   "name": "python",
   "nbconvert_exporter": "python",
   "pygments_lexer": "ipython3",
   "version": "3.8.12"
  }
 },
 "nbformat": 4,
 "nbformat_minor": 5
}
