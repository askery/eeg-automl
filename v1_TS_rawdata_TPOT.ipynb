{
 "cells": [
  {
   "cell_type": "code",
   "execution_count": 1,
   "metadata": {},
   "outputs": [],
   "source": [
    "import warnings\n",
    "warnings.filterwarnings('ignore')"
   ]
  },
  {
   "cell_type": "code",
   "execution_count": 2,
   "metadata": {},
   "outputs": [],
   "source": [
    "from tpot import TPOTClassifier\n",
    "import pandas as pd\n",
    "from sklearn.model_selection import train_test_split\n",
    "from sklearn.metrics import classification_report, confusion_matrix"
   ]
  },
  {
   "cell_type": "code",
   "execution_count": 3,
   "metadata": {},
   "outputs": [],
   "source": [
    "# load\n",
    "pref = ['C4_1_','C4_5_','C4_6_', 'C4_8_', 'C4_10_']\n",
    "df_d = {}\n",
    "for i in range(len(pref)):\n",
    "    fname   = pref[i] + 'rawdata_open.csv'\n",
    "    df_d[i] = pd.read_csv(fname)\n",
    "#df = pd.read_csv('C4_10_features.csv')\n",
    "#df_d[4]  "
   ]
  },
  {
   "cell_type": "code",
   "execution_count": 4,
   "metadata": {},
   "outputs": [],
   "source": [
    "df = pd.concat(df_d.values(), ignore_index=True)\n",
    "#df = df_d[4]  "
   ]
  },
  {
   "cell_type": "code",
   "execution_count": 5,
   "metadata": {},
   "outputs": [
    {
     "data": {
      "text/html": [
       "<div>\n",
       "<style scoped>\n",
       "    .dataframe tbody tr th:only-of-type {\n",
       "        vertical-align: middle;\n",
       "    }\n",
       "\n",
       "    .dataframe tbody tr th {\n",
       "        vertical-align: top;\n",
       "    }\n",
       "\n",
       "    .dataframe thead th {\n",
       "        text-align: right;\n",
       "    }\n",
       "</style>\n",
       "<table border=\"1\" class=\"dataframe\">\n",
       "  <thead>\n",
       "    <tr style=\"text-align: right;\">\n",
       "      <th></th>\n",
       "      <th>x1</th>\n",
       "      <th>x2</th>\n",
       "      <th>x3</th>\n",
       "      <th>x4</th>\n",
       "      <th>x5</th>\n",
       "      <th>x6</th>\n",
       "      <th>x7</th>\n",
       "      <th>x8</th>\n",
       "      <th>x9</th>\n",
       "      <th>x10</th>\n",
       "      <th>...</th>\n",
       "      <th>x92</th>\n",
       "      <th>x93</th>\n",
       "      <th>x94</th>\n",
       "      <th>x95</th>\n",
       "      <th>x96</th>\n",
       "      <th>x97</th>\n",
       "      <th>x98</th>\n",
       "      <th>x99</th>\n",
       "      <th>x100</th>\n",
       "      <th>Class</th>\n",
       "    </tr>\n",
       "  </thead>\n",
       "  <tbody>\n",
       "    <tr>\n",
       "      <th>0</th>\n",
       "      <td>-23.828852</td>\n",
       "      <td>-7.226783</td>\n",
       "      <td>-0.976592</td>\n",
       "      <td>-3.808710</td>\n",
       "      <td>-5.566576</td>\n",
       "      <td>-4.980621</td>\n",
       "      <td>-4.492325</td>\n",
       "      <td>0.683615</td>\n",
       "      <td>11.816767</td>\n",
       "      <td>16.406751</td>\n",
       "      <td>...</td>\n",
       "      <td>48.048341</td>\n",
       "      <td>53.126621</td>\n",
       "      <td>46.192816</td>\n",
       "      <td>36.719871</td>\n",
       "      <td>38.380078</td>\n",
       "      <td>46.290475</td>\n",
       "      <td>45.704520</td>\n",
       "      <td>38.477737</td>\n",
       "      <td>38.184759</td>\n",
       "      <td>0</td>\n",
       "    </tr>\n",
       "    <tr>\n",
       "      <th>1</th>\n",
       "      <td>43.165380</td>\n",
       "      <td>37.012848</td>\n",
       "      <td>18.750572</td>\n",
       "      <td>12.012085</td>\n",
       "      <td>32.715842</td>\n",
       "      <td>64.162114</td>\n",
       "      <td>76.760155</td>\n",
       "      <td>62.306589</td>\n",
       "      <td>37.208167</td>\n",
       "      <td>19.824824</td>\n",
       "      <td>...</td>\n",
       "      <td>-31.446272</td>\n",
       "      <td>-16.504410</td>\n",
       "      <td>0.781274</td>\n",
       "      <td>16.211432</td>\n",
       "      <td>17.481002</td>\n",
       "      <td>2.929777</td>\n",
       "      <td>-10.937834</td>\n",
       "      <td>-13.574633</td>\n",
       "      <td>-16.211432</td>\n",
       "      <td>0</td>\n",
       "    </tr>\n",
       "    <tr>\n",
       "      <th>2</th>\n",
       "      <td>-30.274361</td>\n",
       "      <td>-44.337291</td>\n",
       "      <td>-41.114536</td>\n",
       "      <td>-25.586718</td>\n",
       "      <td>-16.797388</td>\n",
       "      <td>-19.727165</td>\n",
       "      <td>-23.340556</td>\n",
       "      <td>-22.070986</td>\n",
       "      <td>-21.387371</td>\n",
       "      <td>-23.242897</td>\n",
       "      <td>...</td>\n",
       "      <td>-21.973327</td>\n",
       "      <td>-8.008057</td>\n",
       "      <td>-11.719108</td>\n",
       "      <td>-23.145238</td>\n",
       "      <td>-28.125858</td>\n",
       "      <td>-28.516495</td>\n",
       "      <td>-29.590747</td>\n",
       "      <td>-26.270333</td>\n",
       "      <td>-16.504410</td>\n",
       "      <td>0</td>\n",
       "    </tr>\n",
       "    <tr>\n",
       "      <th>3</th>\n",
       "      <td>-12.891018</td>\n",
       "      <td>-25.098422</td>\n",
       "      <td>-39.161351</td>\n",
       "      <td>-35.059664</td>\n",
       "      <td>-18.359935</td>\n",
       "      <td>-12.793359</td>\n",
       "      <td>-23.633534</td>\n",
       "      <td>-31.836909</td>\n",
       "      <td>-26.758629</td>\n",
       "      <td>-21.289712</td>\n",
       "      <td>...</td>\n",
       "      <td>-20.117801</td>\n",
       "      <td>-20.020142</td>\n",
       "      <td>-26.367992</td>\n",
       "      <td>-29.883724</td>\n",
       "      <td>-26.563311</td>\n",
       "      <td>-22.363964</td>\n",
       "      <td>-25.098422</td>\n",
       "      <td>-33.301798</td>\n",
       "      <td>-35.450301</td>\n",
       "      <td>0</td>\n",
       "    </tr>\n",
       "    <tr>\n",
       "      <th>4</th>\n",
       "      <td>-24.610126</td>\n",
       "      <td>-11.328471</td>\n",
       "      <td>-12.207404</td>\n",
       "      <td>-25.782037</td>\n",
       "      <td>-31.836909</td>\n",
       "      <td>-21.680349</td>\n",
       "      <td>-12.402722</td>\n",
       "      <td>-20.899075</td>\n",
       "      <td>-36.329234</td>\n",
       "      <td>-37.110508</td>\n",
       "      <td>...</td>\n",
       "      <td>-18.555254</td>\n",
       "      <td>0.878933</td>\n",
       "      <td>4.199347</td>\n",
       "      <td>-6.250191</td>\n",
       "      <td>-15.332499</td>\n",
       "      <td>-14.648885</td>\n",
       "      <td>-6.347850</td>\n",
       "      <td>4.297006</td>\n",
       "      <td>9.961241</td>\n",
       "      <td>0</td>\n",
       "    </tr>\n",
       "    <tr>\n",
       "      <th>...</th>\n",
       "      <td>...</td>\n",
       "      <td>...</td>\n",
       "      <td>...</td>\n",
       "      <td>...</td>\n",
       "      <td>...</td>\n",
       "      <td>...</td>\n",
       "      <td>...</td>\n",
       "      <td>...</td>\n",
       "      <td>...</td>\n",
       "      <td>...</td>\n",
       "      <td>...</td>\n",
       "      <td>...</td>\n",
       "      <td>...</td>\n",
       "      <td>...</td>\n",
       "      <td>...</td>\n",
       "      <td>...</td>\n",
       "      <td>...</td>\n",
       "      <td>...</td>\n",
       "      <td>...</td>\n",
       "      <td>...</td>\n",
       "      <td>...</td>\n",
       "    </tr>\n",
       "    <tr>\n",
       "      <th>30715</th>\n",
       "      <td>-2.636799</td>\n",
       "      <td>-2.929777</td>\n",
       "      <td>-2.050844</td>\n",
       "      <td>-1.269570</td>\n",
       "      <td>-2.343822</td>\n",
       "      <td>-4.492325</td>\n",
       "      <td>-5.273598</td>\n",
       "      <td>-4.785302</td>\n",
       "      <td>-5.078280</td>\n",
       "      <td>-6.738487</td>\n",
       "      <td>...</td>\n",
       "      <td>-7.519761</td>\n",
       "      <td>-3.613392</td>\n",
       "      <td>1.171911</td>\n",
       "      <td>4.882962</td>\n",
       "      <td>5.371258</td>\n",
       "      <td>1.660207</td>\n",
       "      <td>-4.589984</td>\n",
       "      <td>-9.472945</td>\n",
       "      <td>-11.035493</td>\n",
       "      <td>1</td>\n",
       "    </tr>\n",
       "    <tr>\n",
       "      <th>30716</th>\n",
       "      <td>-10.742515</td>\n",
       "      <td>-11.523789</td>\n",
       "      <td>-14.551225</td>\n",
       "      <td>-18.457595</td>\n",
       "      <td>-21.875668</td>\n",
       "      <td>-24.121830</td>\n",
       "      <td>-25.098422</td>\n",
       "      <td>-24.610126</td>\n",
       "      <td>-23.828852</td>\n",
       "      <td>-23.828852</td>\n",
       "      <td>...</td>\n",
       "      <td>-9.668264</td>\n",
       "      <td>-8.203375</td>\n",
       "      <td>-8.105716</td>\n",
       "      <td>-7.617420</td>\n",
       "      <td>-7.715079</td>\n",
       "      <td>-10.156560</td>\n",
       "      <td>-13.574633</td>\n",
       "      <td>-14.844203</td>\n",
       "      <td>-13.379315</td>\n",
       "      <td>1</td>\n",
       "    </tr>\n",
       "    <tr>\n",
       "      <th>30717</th>\n",
       "      <td>-11.523789</td>\n",
       "      <td>-11.621448</td>\n",
       "      <td>-13.867611</td>\n",
       "      <td>-16.504410</td>\n",
       "      <td>-17.090365</td>\n",
       "      <td>-15.430158</td>\n",
       "      <td>-13.965270</td>\n",
       "      <td>-15.625477</td>\n",
       "      <td>-18.164617</td>\n",
       "      <td>-16.504410</td>\n",
       "      <td>...</td>\n",
       "      <td>-19.238868</td>\n",
       "      <td>-27.149266</td>\n",
       "      <td>-32.715842</td>\n",
       "      <td>-33.301798</td>\n",
       "      <td>-29.590747</td>\n",
       "      <td>-25.684378</td>\n",
       "      <td>-24.414808</td>\n",
       "      <td>-25.293741</td>\n",
       "      <td>-25.684378</td>\n",
       "      <td>1</td>\n",
       "    </tr>\n",
       "    <tr>\n",
       "      <th>30718</th>\n",
       "      <td>-24.512467</td>\n",
       "      <td>-22.754601</td>\n",
       "      <td>-20.606098</td>\n",
       "      <td>-17.676321</td>\n",
       "      <td>-14.160588</td>\n",
       "      <td>-12.012085</td>\n",
       "      <td>-12.305063</td>\n",
       "      <td>-13.672292</td>\n",
       "      <td>-13.769951</td>\n",
       "      <td>-12.891018</td>\n",
       "      <td>...</td>\n",
       "      <td>10.156560</td>\n",
       "      <td>11.328471</td>\n",
       "      <td>11.035493</td>\n",
       "      <td>9.277627</td>\n",
       "      <td>7.519761</td>\n",
       "      <td>7.324442</td>\n",
       "      <td>8.301035</td>\n",
       "      <td>8.594012</td>\n",
       "      <td>7.226783</td>\n",
       "      <td>1</td>\n",
       "    </tr>\n",
       "    <tr>\n",
       "      <th>30719</th>\n",
       "      <td>5.468917</td>\n",
       "      <td>4.882962</td>\n",
       "      <td>5.371258</td>\n",
       "      <td>5.566576</td>\n",
       "      <td>4.785302</td>\n",
       "      <td>3.515732</td>\n",
       "      <td>1.464888</td>\n",
       "      <td>-1.074252</td>\n",
       "      <td>-2.832118</td>\n",
       "      <td>-2.148503</td>\n",
       "      <td>...</td>\n",
       "      <td>-1.562548</td>\n",
       "      <td>-1.171911</td>\n",
       "      <td>-0.195318</td>\n",
       "      <td>-0.097659</td>\n",
       "      <td>-1.171911</td>\n",
       "      <td>-1.269570</td>\n",
       "      <td>1.171911</td>\n",
       "      <td>4.589984</td>\n",
       "      <td>6.152532</td>\n",
       "      <td>1</td>\n",
       "    </tr>\n",
       "  </tbody>\n",
       "</table>\n",
       "<p>30720 rows × 101 columns</p>\n",
       "</div>"
      ],
      "text/plain": [
       "              x1         x2         x3         x4         x5         x6  \\\n",
       "0     -23.828852  -7.226783  -0.976592  -3.808710  -5.566576  -4.980621   \n",
       "1      43.165380  37.012848  18.750572  12.012085  32.715842  64.162114   \n",
       "2     -30.274361 -44.337291 -41.114536 -25.586718 -16.797388 -19.727165   \n",
       "3     -12.891018 -25.098422 -39.161351 -35.059664 -18.359935 -12.793359   \n",
       "4     -24.610126 -11.328471 -12.207404 -25.782037 -31.836909 -21.680349   \n",
       "...          ...        ...        ...        ...        ...        ...   \n",
       "30715  -2.636799  -2.929777  -2.050844  -1.269570  -2.343822  -4.492325   \n",
       "30716 -10.742515 -11.523789 -14.551225 -18.457595 -21.875668 -24.121830   \n",
       "30717 -11.523789 -11.621448 -13.867611 -16.504410 -17.090365 -15.430158   \n",
       "30718 -24.512467 -22.754601 -20.606098 -17.676321 -14.160588 -12.012085   \n",
       "30719   5.468917   4.882962   5.371258   5.566576   4.785302   3.515732   \n",
       "\n",
       "              x7         x8         x9        x10  ...        x92        x93  \\\n",
       "0      -4.492325   0.683615  11.816767  16.406751  ...  48.048341  53.126621   \n",
       "1      76.760155  62.306589  37.208167  19.824824  ... -31.446272 -16.504410   \n",
       "2     -23.340556 -22.070986 -21.387371 -23.242897  ... -21.973327  -8.008057   \n",
       "3     -23.633534 -31.836909 -26.758629 -21.289712  ... -20.117801 -20.020142   \n",
       "4     -12.402722 -20.899075 -36.329234 -37.110508  ... -18.555254   0.878933   \n",
       "...          ...        ...        ...        ...  ...        ...        ...   \n",
       "30715  -5.273598  -4.785302  -5.078280  -6.738487  ...  -7.519761  -3.613392   \n",
       "30716 -25.098422 -24.610126 -23.828852 -23.828852  ...  -9.668264  -8.203375   \n",
       "30717 -13.965270 -15.625477 -18.164617 -16.504410  ... -19.238868 -27.149266   \n",
       "30718 -12.305063 -13.672292 -13.769951 -12.891018  ...  10.156560  11.328471   \n",
       "30719   1.464888  -1.074252  -2.832118  -2.148503  ...  -1.562548  -1.171911   \n",
       "\n",
       "             x94        x95        x96        x97        x98        x99  \\\n",
       "0      46.192816  36.719871  38.380078  46.290475  45.704520  38.477737   \n",
       "1       0.781274  16.211432  17.481002   2.929777 -10.937834 -13.574633   \n",
       "2     -11.719108 -23.145238 -28.125858 -28.516495 -29.590747 -26.270333   \n",
       "3     -26.367992 -29.883724 -26.563311 -22.363964 -25.098422 -33.301798   \n",
       "4       4.199347  -6.250191 -15.332499 -14.648885  -6.347850   4.297006   \n",
       "...          ...        ...        ...        ...        ...        ...   \n",
       "30715   1.171911   4.882962   5.371258   1.660207  -4.589984  -9.472945   \n",
       "30716  -8.105716  -7.617420  -7.715079 -10.156560 -13.574633 -14.844203   \n",
       "30717 -32.715842 -33.301798 -29.590747 -25.684378 -24.414808 -25.293741   \n",
       "30718  11.035493   9.277627   7.519761   7.324442   8.301035   8.594012   \n",
       "30719  -0.195318  -0.097659  -1.171911  -1.269570   1.171911   4.589984   \n",
       "\n",
       "            x100  Class  \n",
       "0      38.184759      0  \n",
       "1     -16.211432      0  \n",
       "2     -16.504410      0  \n",
       "3     -35.450301      0  \n",
       "4       9.961241      0  \n",
       "...          ...    ...  \n",
       "30715 -11.035493      1  \n",
       "30716 -13.379315      1  \n",
       "30717 -25.684378      1  \n",
       "30718   7.226783      1  \n",
       "30719   6.152532      1  \n",
       "\n",
       "[30720 rows x 101 columns]"
      ]
     },
     "execution_count": 5,
     "metadata": {},
     "output_type": "execute_result"
    }
   ],
   "source": [
    "# inspect\n",
    "df"
   ]
  },
  {
   "cell_type": "code",
   "execution_count": 6,
   "metadata": {},
   "outputs": [
    {
     "data": {
      "text/plain": [
       "x1       float64\n",
       "x2       float64\n",
       "x3       float64\n",
       "x4       float64\n",
       "x5       float64\n",
       "          ...   \n",
       "x97      float64\n",
       "x98      float64\n",
       "x99      float64\n",
       "x100     float64\n",
       "Class      int64\n",
       "Length: 101, dtype: object"
      ]
     },
     "execution_count": 6,
     "metadata": {},
     "output_type": "execute_result"
    }
   ],
   "source": [
    "# inspect types \n",
    "df.dtypes"
   ]
  },
  {
   "cell_type": "code",
   "execution_count": 7,
   "metadata": {},
   "outputs": [
    {
     "data": {
      "text/plain": [
       "101"
      ]
     },
     "execution_count": 7,
     "metadata": {},
     "output_type": "execute_result"
    }
   ],
   "source": [
    "df.shape[1]"
   ]
  },
  {
   "cell_type": "code",
   "execution_count": 8,
   "metadata": {},
   "outputs": [],
   "source": [
    "X = df.iloc[:,0:df.shape[1] -1].values\n",
    "y = df.iloc[: , -1:].values.reshape((-1,1))"
   ]
  },
  {
   "cell_type": "code",
   "execution_count": 9,
   "metadata": {},
   "outputs": [
    {
     "data": {
      "text/plain": [
       "(30720, 100)"
      ]
     },
     "execution_count": 9,
     "metadata": {},
     "output_type": "execute_result"
    }
   ],
   "source": [
    "X.shape"
   ]
  },
  {
   "cell_type": "code",
   "execution_count": 10,
   "metadata": {},
   "outputs": [],
   "source": [
    "X_train, X_test, y_train, y_test = train_test_split(X, y,\n",
    "                                                    train_size=0.8, random_state=13, stratify=y)"
   ]
  },
  {
   "cell_type": "code",
   "execution_count": 11,
   "metadata": {},
   "outputs": [],
   "source": [
    "# TPOT cfg\n",
    "tpot = TPOTClassifier(verbosity=2, \n",
    "                      scoring=\"accuracy\", \n",
    "                      random_state=7,  \n",
    "                      generations=50, \n",
    "                      population_size=50,\n",
    "                      early_stop=15)"
   ]
  },
  {
   "cell_type": "code",
   "execution_count": null,
   "metadata": {},
   "outputs": [
    {
     "data": {
      "application/vnd.jupyter.widget-view+json": {
       "model_id": "25b83a9d5d4a4d5ea880fb1a3fb82f29",
       "version_major": 2,
       "version_minor": 0
      },
      "text/plain": [
       "Optimization Progress:   0%|          | 0/2550 [00:00<?, ?pipeline/s]"
      ]
     },
     "metadata": {},
     "output_type": "display_data"
    },
    {
     "name": "stdout",
     "output_type": "stream",
     "text": [
      "\n",
      "Generation 1 - Current best internal CV score: 0.705078126358013\n",
      "\n",
      "Generation 2 - Current best internal CV score: 0.7062985480590709\n",
      "\n",
      "Generation 3 - Current best internal CV score: 0.7062985480590709\n",
      "\n",
      "Generation 4 - Current best internal CV score: 0.7558592657769553\n",
      "\n",
      "Generation 5 - Current best internal CV score: 0.7558592657769553\n",
      "\n",
      "Generation 6 - Current best internal CV score: 0.7567543520565645\n",
      "\n",
      "Generation 7 - Current best internal CV score: 0.7567543520565645\n",
      "\n",
      "Generation 8 - Current best internal CV score: 0.7567543520565645\n",
      "\n",
      "Generation 9 - Current best internal CV score: 0.7567543520565645\n",
      "\n",
      "Generation 10 - Current best internal CV score: 0.7567543520565645\n",
      "\n",
      "\n",
      "TPOT closed during evaluation in one generation.\n",
      "WARNING: TPOT may not provide a good pipeline if TPOT is stopped/interrupted in a early generation.\n",
      "\n",
      "\n",
      "TPOT closed prematurely. Will use the current best pipeline.\n",
      "\n",
      "Best pipeline: ExtraTreesClassifier(ExtraTreesClassifier(FastICA(input_matrix, tol=0.65), bootstrap=False, criterion=gini, max_features=0.6500000000000001, min_samples_leaf=10, min_samples_split=3, n_estimators=100), bootstrap=True, criterion=gini, max_features=0.6500000000000001, min_samples_leaf=13, min_samples_split=5, n_estimators=100)\n"
     ]
    }
   ],
   "source": [
    "%%time\n",
    "# fit\n",
    "tpot.fit(X_train, y_train)"
   ]
  },
  {
   "cell_type": "code",
   "execution_count": null,
   "metadata": {},
   "outputs": [],
   "source": [
    "# TPOT Predict\n",
    "y_pred = tpot.predict(X_test)"
   ]
  },
  {
   "cell_type": "code",
   "execution_count": null,
   "metadata": {},
   "outputs": [],
   "source": [
    "# Results\n",
    "print(classification_report(y_test, y_pred))"
   ]
  },
  {
   "cell_type": "code",
   "execution_count": null,
   "metadata": {},
   "outputs": [],
   "source": [
    "# sanity check (accuracy)\n",
    "tpot.score(X_test, y_test)"
   ]
  },
  {
   "cell_type": "code",
   "execution_count": null,
   "metadata": {},
   "outputs": [],
   "source": [
    "# confusion matrix\n",
    "cm  = confusion_matrix(y_test, y_pred)\n",
    "cm"
   ]
  },
  {
   "cell_type": "code",
   "execution_count": null,
   "metadata": {},
   "outputs": [],
   "source": [
    "from pretty_confusion_matrix import pp_matrix"
   ]
  },
  {
   "cell_type": "code",
   "execution_count": null,
   "metadata": {},
   "outputs": [],
   "source": [
    "df_cm = pd.DataFrame(cm, range(2), range(2))\n",
    "cmap  = 'jet'#'spring'#'summer'#'winter'#'RdBu'#'PuRd'#'autumn'#'prism'#\n",
    "pp_matrix(df_cm, cmap=cmap)"
   ]
  },
  {
   "cell_type": "code",
   "execution_count": null,
   "metadata": {},
   "outputs": [],
   "source": [
    "# can we use data from one person to others? vice versa?"
   ]
  },
  {
   "cell_type": "code",
   "execution_count": null,
   "metadata": {},
   "outputs": [],
   "source": [
    "# load val\n",
    "df_val = pd.read_csv('C4_8_rawdata_open.csv')  \n",
    "X_val  = df_val.iloc[:,0:df_val.shape[1] -1].values\n",
    "y_val  = df_val.iloc[: , -1:].values"
   ]
  },
  {
   "cell_type": "code",
   "execution_count": null,
   "metadata": {},
   "outputs": [],
   "source": [
    "# sanity check (accuracy)\n",
    "tpot.score(X_val, y_val)"
   ]
  },
  {
   "cell_type": "code",
   "execution_count": null,
   "metadata": {},
   "outputs": [],
   "source": [
    "y_pred_val = tpot.predict(X_val)"
   ]
  },
  {
   "cell_type": "code",
   "execution_count": null,
   "metadata": {},
   "outputs": [],
   "source": [
    "# confusion matrix\n",
    "cm_val  = confusion_matrix(y_pred_val, y_val)\n",
    "cm_val"
   ]
  },
  {
   "cell_type": "code",
   "execution_count": null,
   "metadata": {},
   "outputs": [],
   "source": []
  },
  {
   "cell_type": "code",
   "execution_count": null,
   "metadata": {},
   "outputs": [],
   "source": [
    "df.columns = ['X','y']"
   ]
  },
  {
   "cell_type": "code",
   "execution_count": null,
   "metadata": {},
   "outputs": [],
   "source": [
    "#df = df.replace(\" \", \",\" )\n",
    "#df"
   ]
  },
  {
   "cell_type": "code",
   "execution_count": null,
   "metadata": {},
   "outputs": [],
   "source": [
    "df.iloc[0]['X']"
   ]
  },
  {
   "cell_type": "code",
   "execution_count": null,
   "metadata": {},
   "outputs": [],
   "source": [
    "df.replace(\"\\n\", \"\" )\n",
    "#df"
   ]
  },
  {
   "cell_type": "code",
   "execution_count": null,
   "metadata": {},
   "outputs": [],
   "source": []
  }
 ],
 "metadata": {
  "kernelspec": {
   "display_name": "Python 3",
   "language": "python",
   "name": "python3"
  },
  "language_info": {
   "codemirror_mode": {
    "name": "ipython",
    "version": 3
   },
   "file_extension": ".py",
   "mimetype": "text/x-python",
   "name": "python",
   "nbconvert_exporter": "python",
   "pygments_lexer": "ipython3",
   "version": "3.7.3"
  }
 },
 "nbformat": 4,
 "nbformat_minor": 5
}
