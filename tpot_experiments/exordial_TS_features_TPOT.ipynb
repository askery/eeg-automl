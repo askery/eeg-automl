{
 "cells": [
  {
   "cell_type": "code",
   "execution_count": 180,
   "metadata": {},
   "outputs": [],
   "source": [
    "from tpot import TPOTClassifier\n",
    "import pandas as pd\n",
    "from sklearn.model_selection import train_test_split\n",
    "from sklearn.metrics import classification_report, confusion_matrix"
   ]
  },
  {
   "cell_type": "code",
   "execution_count": 181,
   "metadata": {},
   "outputs": [],
   "source": [
    "# load\n",
    "pref = ['C4_1_','C4_5_','C4_6_', 'C4_8_', 'C4_10_']\n",
    "df_d = {}\n",
    "for i in range(len(pref)):\n",
    "    fname  = pref[i] + 'features.csv'\n",
    "    df_d[i] = pd.read_csv(fname)\n",
    "#df = pd.read_csv('C4_10_features.csv')\n",
    "#df_d[4]  "
   ]
  },
  {
   "cell_type": "code",
   "execution_count": 182,
   "metadata": {},
   "outputs": [],
   "source": [
    "df = pd.concat(df_d.values(), ignore_index=True)"
   ]
  },
  {
   "cell_type": "code",
   "execution_count": 183,
   "metadata": {},
   "outputs": [
    {
     "data": {
      "text/html": [
       "<div>\n",
       "<style scoped>\n",
       "    .dataframe tbody tr th:only-of-type {\n",
       "        vertical-align: middle;\n",
       "    }\n",
       "\n",
       "    .dataframe tbody tr th {\n",
       "        vertical-align: top;\n",
       "    }\n",
       "\n",
       "    .dataframe thead th {\n",
       "        text-align: right;\n",
       "    }\n",
       "</style>\n",
       "<table border=\"1\" class=\"dataframe\">\n",
       "  <thead>\n",
       "    <tr style=\"text-align: right;\">\n",
       "      <th></th>\n",
       "      <th>HDF</th>\n",
       "      <th>Complexity</th>\n",
       "      <th>Mobility</th>\n",
       "      <th>classe</th>\n",
       "    </tr>\n",
       "  </thead>\n",
       "  <tbody>\n",
       "    <tr>\n",
       "      <th>0</th>\n",
       "      <td>2.150808</td>\n",
       "      <td>1.438250</td>\n",
       "      <td>0.540240</td>\n",
       "      <td>0</td>\n",
       "    </tr>\n",
       "    <tr>\n",
       "      <th>1</th>\n",
       "      <td>1.977571</td>\n",
       "      <td>1.935658</td>\n",
       "      <td>0.397211</td>\n",
       "      <td>0</td>\n",
       "    </tr>\n",
       "    <tr>\n",
       "      <th>2</th>\n",
       "      <td>2.027908</td>\n",
       "      <td>1.283070</td>\n",
       "      <td>0.653880</td>\n",
       "      <td>0</td>\n",
       "    </tr>\n",
       "    <tr>\n",
       "      <th>3</th>\n",
       "      <td>2.093969</td>\n",
       "      <td>1.291287</td>\n",
       "      <td>0.667136</td>\n",
       "      <td>0</td>\n",
       "    </tr>\n",
       "    <tr>\n",
       "      <th>4</th>\n",
       "      <td>2.049368</td>\n",
       "      <td>1.350312</td>\n",
       "      <td>0.632099</td>\n",
       "      <td>0</td>\n",
       "    </tr>\n",
       "    <tr>\n",
       "      <th>...</th>\n",
       "      <td>...</td>\n",
       "      <td>...</td>\n",
       "      <td>...</td>\n",
       "      <td>...</td>\n",
       "    </tr>\n",
       "    <tr>\n",
       "      <th>30715</th>\n",
       "      <td>1.699075</td>\n",
       "      <td>2.279243</td>\n",
       "      <td>0.262907</td>\n",
       "      <td>1</td>\n",
       "    </tr>\n",
       "    <tr>\n",
       "      <th>30716</th>\n",
       "      <td>1.814246</td>\n",
       "      <td>1.893517</td>\n",
       "      <td>0.324222</td>\n",
       "      <td>1</td>\n",
       "    </tr>\n",
       "    <tr>\n",
       "      <th>30717</th>\n",
       "      <td>1.731315</td>\n",
       "      <td>2.305491</td>\n",
       "      <td>0.289293</td>\n",
       "      <td>1</td>\n",
       "    </tr>\n",
       "    <tr>\n",
       "      <th>30718</th>\n",
       "      <td>1.426440</td>\n",
       "      <td>3.283170</td>\n",
       "      <td>0.162773</td>\n",
       "      <td>1</td>\n",
       "    </tr>\n",
       "    <tr>\n",
       "      <th>30719</th>\n",
       "      <td>1.630986</td>\n",
       "      <td>2.593426</td>\n",
       "      <td>0.222225</td>\n",
       "      <td>1</td>\n",
       "    </tr>\n",
       "  </tbody>\n",
       "</table>\n",
       "<p>30720 rows × 4 columns</p>\n",
       "</div>"
      ],
      "text/plain": [
       "            HDF  Complexity  Mobility  classe\n",
       "0      2.150808    1.438250  0.540240       0\n",
       "1      1.977571    1.935658  0.397211       0\n",
       "2      2.027908    1.283070  0.653880       0\n",
       "3      2.093969    1.291287  0.667136       0\n",
       "4      2.049368    1.350312  0.632099       0\n",
       "...         ...         ...       ...     ...\n",
       "30715  1.699075    2.279243  0.262907       1\n",
       "30716  1.814246    1.893517  0.324222       1\n",
       "30717  1.731315    2.305491  0.289293       1\n",
       "30718  1.426440    3.283170  0.162773       1\n",
       "30719  1.630986    2.593426  0.222225       1\n",
       "\n",
       "[30720 rows x 4 columns]"
      ]
     },
     "execution_count": 183,
     "metadata": {},
     "output_type": "execute_result"
    }
   ],
   "source": [
    "# inspect\n",
    "df"
   ]
  },
  {
   "cell_type": "code",
   "execution_count": 184,
   "metadata": {},
   "outputs": [
    {
     "data": {
      "text/plain": [
       "HDF           float64\n",
       "Complexity    float64\n",
       "Mobility      float64\n",
       "classe          int64\n",
       "dtype: object"
      ]
     },
     "execution_count": 184,
     "metadata": {},
     "output_type": "execute_result"
    }
   ],
   "source": [
    "# inspect types \n",
    "df.dtypes"
   ]
  },
  {
   "cell_type": "code",
   "execution_count": 185,
   "metadata": {},
   "outputs": [
    {
     "data": {
      "text/plain": [
       "4"
      ]
     },
     "execution_count": 185,
     "metadata": {},
     "output_type": "execute_result"
    }
   ],
   "source": [
    "df.shape[1]"
   ]
  },
  {
   "cell_type": "code",
   "execution_count": 186,
   "metadata": {},
   "outputs": [],
   "source": [
    "X = df.iloc[:,0:df.shape[1] -1].values\n",
    "y = df.iloc[: , -1:].values"
   ]
  },
  {
   "cell_type": "code",
   "execution_count": 190,
   "metadata": {},
   "outputs": [],
   "source": [
    "X_train, X_test, y_train, y_test = train_test_split(X, y,\n",
    "                                                    train_size=0.8, random_state=18, stratify=y)"
   ]
  },
  {
   "cell_type": "code",
   "execution_count": 191,
   "metadata": {},
   "outputs": [],
   "source": [
    "# TPOT cfg\n",
    "tpot = TPOTClassifier(verbosity=2, \n",
    "                      scoring=\"accuracy\", \n",
    "                      random_state=18,  \n",
    "                      generations=15, \n",
    "                      population_size=10,\n",
    "                      early_stop=10)"
   ]
  },
  {
   "cell_type": "code",
   "execution_count": 192,
   "metadata": {},
   "outputs": [
    {
     "name": "stderr",
     "output_type": "stream",
     "text": [
      "/home/askery/anaconda3/envs/pycaret+/lib/python3.7/site-packages/sklearn/utils/validation.py:72: DataConversionWarning: A column-vector y was passed when a 1d array was expected. Please change the shape of y to (n_samples, ), for example using ravel().\n",
      "  return f(**kwargs)\n"
     ]
    },
    {
     "data": {
      "application/vnd.jupyter.widget-view+json": {
       "model_id": "",
       "version_major": 2,
       "version_minor": 0
      },
      "text/plain": [
       "Optimization Progress:   0%|          | 0/160 [00:00<?, ?pipeline/s]"
      ]
     },
     "metadata": {},
     "output_type": "display_data"
    },
    {
     "name": "stdout",
     "output_type": "stream",
     "text": [
      "\n",
      "Generation 1 - Current best internal CV score: 0.6421303659361299\n",
      "\n",
      "Generation 2 - Current best internal CV score: 0.6422931246983918\n",
      "\n",
      "Generation 3 - Current best internal CV score: 0.6422931246983918\n",
      "\n",
      "Generation 4 - Current best internal CV score: 0.6422931246983918\n",
      "\n",
      "Generation 5 - Current best internal CV score: 0.6422931246983918\n",
      "\n",
      "Generation 6 - Current best internal CV score: 0.6422931246983918\n",
      "\n",
      "Generation 7 - Current best internal CV score: 0.6422931246983918\n",
      "\n",
      "Generation 8 - Current best internal CV score: 0.6435137533347626\n",
      "\n",
      "Generation 9 - Current best internal CV score: 0.6435137533347626\n",
      "\n",
      "Generation 10 - Current best internal CV score: 0.6435137533347626\n",
      "\n",
      "Generation 11 - Current best internal CV score: 0.6453040086681063\n",
      "\n",
      "Generation 12 - Current best internal CV score: 0.6453040086681063\n",
      "\n",
      "Generation 13 - Current best internal CV score: 0.6453040086681063\n",
      "\n",
      "Generation 14 - Current best internal CV score: 0.6453040086681063\n",
      "\n",
      "Generation 15 - Current best internal CV score: 0.6453040086681063\n",
      "\n",
      "Best pipeline: ExtraTreesClassifier(CombineDFs(PCA(input_matrix, iterated_power=8, svd_solver=randomized), input_matrix), bootstrap=True, criterion=entropy, max_features=0.7000000000000001, min_samples_leaf=18, min_samples_split=12, n_estimators=100)\n",
      "CPU times: user 1h 27min 3s, sys: 1h 12s, total: 2h 27min 15s\n",
      "Wall time: 43min 8s\n"
     ]
    },
    {
     "data": {
      "text/plain": [
       "TPOTClassifier(early_stop=10, generations=15, population_size=10,\n",
       "               random_state=18, scoring='accuracy', verbosity=2)"
      ]
     },
     "execution_count": 192,
     "metadata": {},
     "output_type": "execute_result"
    }
   ],
   "source": [
    "%%time\n",
    "# fit\n",
    "tpot.fit(X_train, y_train)"
   ]
  },
  {
   "cell_type": "code",
   "execution_count": 193,
   "metadata": {},
   "outputs": [],
   "source": [
    "# TPOT Predict\n",
    "y_pred = tpot.predict(X_test)"
   ]
  },
  {
   "cell_type": "code",
   "execution_count": 194,
   "metadata": {},
   "outputs": [
    {
     "name": "stdout",
     "output_type": "stream",
     "text": [
      "              precision    recall  f1-score   support\n",
      "\n",
      "           0       0.66      0.56      0.61      3072\n",
      "           1       0.62      0.71      0.66      3072\n",
      "\n",
      "    accuracy                           0.64      6144\n",
      "   macro avg       0.64      0.64      0.63      6144\n",
      "weighted avg       0.64      0.64      0.63      6144\n",
      "\n"
     ]
    }
   ],
   "source": [
    "# Results\n",
    "print(classification_report(y_test, y_pred))"
   ]
  },
  {
   "cell_type": "code",
   "execution_count": 195,
   "metadata": {},
   "outputs": [
    {
     "name": "stderr",
     "output_type": "stream",
     "text": [
      "/home/askery/anaconda3/envs/pycaret+/lib/python3.7/site-packages/sklearn/utils/validation.py:72: DataConversionWarning: A column-vector y was passed when a 1d array was expected. Please change the shape of y to (n_samples, ), for example using ravel().\n",
      "  return f(**kwargs)\n"
     ]
    },
    {
     "data": {
      "text/plain": [
       "0.6350911458333334"
      ]
     },
     "execution_count": 195,
     "metadata": {},
     "output_type": "execute_result"
    }
   ],
   "source": [
    "# sanity check (accuracy)\n",
    "tpot.score(X_test, y_test)"
   ]
  },
  {
   "cell_type": "code",
   "execution_count": 196,
   "metadata": {},
   "outputs": [
    {
     "data": {
      "text/plain": [
       "array([[1723, 1349],\n",
       "       [ 893, 2179]])"
      ]
     },
     "execution_count": 196,
     "metadata": {},
     "output_type": "execute_result"
    }
   ],
   "source": [
    "# confusion matrix\n",
    "cm  = confusion_matrix(y_test, y_pred)\n",
    "cm"
   ]
  },
  {
   "cell_type": "code",
   "execution_count": 197,
   "metadata": {},
   "outputs": [],
   "source": [
    "from pretty_confusion_matrix import pp_matrix"
   ]
  },
  {
   "cell_type": "code",
   "execution_count": 198,
   "metadata": {},
   "outputs": [
    {
     "data": {
      "image/png": "[encoded data removed]",
      "text/plain": [
       "<Figure size 576x576 with 1 Axes>"
      ]
     },
     "metadata": {
      "needs_background": "light"
     },
     "output_type": "display_data"
    }
   ],
   "source": [
    "df_cm = pd.DataFrame(cm, range(2), range(2))\n",
    "cmap  = 'jet'#'spring'#'summer'#'winter'#'RdBu'#'PuRd'#'autumn'#'prism'#\n",
    "pp_matrix(df_cm, cmap=cmap)"
   ]
  },
  {
   "cell_type": "code",
   "execution_count": 153,
   "metadata": {},
   "outputs": [],
   "source": [
    "# can we use data from one person to others? vice versa?"
   ]
  },
  {
   "cell_type": "code",
   "execution_count": 166,
   "metadata": {},
   "outputs": [],
   "source": [
    "# load val\n",
    "df_val = pd.read_csv('C4_10_features.csv')  \n",
    "X_val  = df_val.iloc[:,0:df_val.shape[1] -1].values\n",
    "y_val  = df_val.iloc[: , -1:].values"
   ]
  },
  {
   "cell_type": "code",
   "execution_count": 167,
   "metadata": {},
   "outputs": [
    {
     "name": "stderr",
     "output_type": "stream",
     "text": [
      "/home/askery/anaconda3/envs/pycaret+/lib/python3.7/site-packages/sklearn/utils/validation.py:72: DataConversionWarning: A column-vector y was passed when a 1d array was expected. Please change the shape of y to (n_samples, ), for example using ravel().\n",
      "  return f(**kwargs)\n"
     ]
    },
    {
     "data": {
      "text/plain": [
       "0.73974609375"
      ]
     },
     "execution_count": 167,
     "metadata": {},
     "output_type": "execute_result"
    }
   ],
   "source": [
    "# sanity check (accuracy)\n",
    "tpot.score(X_val, y_val)"
   ]
  },
  {
   "cell_type": "code",
   "execution_count": 168,
   "metadata": {},
   "outputs": [],
   "source": [
    "y_pred_val = tpot.predict(X_val)"
   ]
  },
  {
   "cell_type": "code",
   "execution_count": 169,
   "metadata": {},
   "outputs": [
    {
     "data": {
      "text/plain": [
       "array([[2207,  734],\n",
       "       [ 865, 2338]])"
      ]
     },
     "execution_count": 169,
     "metadata": {},
     "output_type": "execute_result"
    }
   ],
   "source": [
    "# confusion matrix\n",
    "cm_val  = confusion_matrix(y_pred_val, y_val)\n",
    "cm_val"
   ]
  },
  {
   "cell_type": "code",
   "execution_count": null,
   "metadata": {},
   "outputs": [],
   "source": []
  },
  {
   "cell_type": "code",
   "execution_count": null,
   "metadata": {},
   "outputs": [],
   "source": [
    "df.columns = ['X','y']"
   ]
  },
  {
   "cell_type": "code",
   "execution_count": null,
   "metadata": {},
   "outputs": [],
   "source": [
    "#df = df.replace(\" \", \",\" )\n",
    "#df"
   ]
  },
  {
   "cell_type": "code",
   "execution_count": null,
   "metadata": {},
   "outputs": [],
   "source": [
    "df.iloc[0]['X']"
   ]
  },
  {
   "cell_type": "code",
   "execution_count": null,
   "metadata": {},
   "outputs": [],
   "source": [
    "df.replace(\"\\n\", \"\" )\n",
    "#df"
   ]
  },
  {
   "cell_type": "code",
   "execution_count": null,
   "metadata": {},
   "outputs": [],
   "source": []
  }
 ],
 "metadata": {
  "kernelspec": {
   "display_name": "Python 3",
   "language": "python",
   "name": "python3"
  },
  "language_info": {
   "codemirror_mode": {
    "name": "ipython",
    "version": 3
   },
   "file_extension": ".py",
   "mimetype": "text/x-python",
   "name": "python",
   "nbconvert_exporter": "python",
   "pygments_lexer": "ipython3",
   "version": "3.7.3"
  }
 },
 "nbformat": 4,
 "nbformat_minor": 5
}
